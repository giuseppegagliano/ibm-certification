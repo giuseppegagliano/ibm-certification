{
 "cells": [
  {
   "cell_type": "markdown",
   "metadata": {},
   "source": [
    "https://www.kaggle.com/snap/amazon-fine-food-reviews\n",
    "\n",
    "https://www.kaggle.com/rajmehra03/a-detailed-explanation-of-keras-embedding-layer\n",
    "https://www.kaggle.com/gpayen/building-a-prediction-model/output"
   ]
  },
  {
   "cell_type": "code",
   "execution_count": 1,
   "metadata": {},
   "outputs": [],
   "source": [
    "import warnings\n",
    "warnings.filterwarnings('always')\n",
    "warnings.filterwarnings('ignore')\n",
    "\n",
    "import pandas as pd\n",
    "import numpy as np\n",
    "from sklearn.model_selection import train_test_split\n",
    "\n",
    "import matplotlib.pyplot as plt\n",
    "from matplotlib import style\n",
    "import seaborn as sns\n",
    "%matplotlib inline  \n",
    "style.use('fivethirtyeight')\n",
    "sns.set(style='whitegrid',color_codes=True)"
   ]
  },
  {
   "cell_type": "markdown",
   "metadata": {},
   "source": [
    "## Milestone 1 \n",
    "\n",
    "- Process model\n",
    "- architectural decision\n",
    "- use case identification\n",
    "- data spurce identificaition\n",
    "- Data exploration\n"
   ]
  },
  {
   "cell_type": "markdown",
   "metadata": {},
   "source": [
    "\n",
    "The aim of my work is to design and implement a way to predict the sentiment of a given review and the predicted importance. This tool may answer the following questions:\n",
    "\n",
    "- Is a review positive, and how relevant it is?\n",
    "- Is the review written by an hater?\n",
    "- Am I being bombed by fake negative review?\n",
    "\n",
    "For this Project I'll use an LSTM model since it works well in many cases of sentiment analysis.\n",
    "\n"
   ]
  },
  {
   "cell_type": "markdown",
   "metadata": {},
   "source": [
    "###  1. Data and usecase"
   ]
  },
  {
   "cell_type": "markdown",
   "metadata": {},
   "source": [
    "As datasource for this project I've chosen the [Amazon Fine Food Reviews Dataset](https://www.kaggle.com/snap/amazon-fine-food-reviews) for sentiment analysis.\n",
    "\n",
    "\n",
    "Here the description as reported from kaggle"
   ]
  },
  {
   "cell_type": "markdown",
   "metadata": {},
   "source": [
    "![sdf](resources/kaggle_desc.png)"
   ]
  },
  {
   "cell_type": "markdown",
   "metadata": {},
   "source": [
    "### 2. Data Exploration\n",
    "\n",
    "Let's start by exploring our data"
   ]
  },
  {
   "cell_type": "code",
   "execution_count": 5,
   "metadata": {},
   "outputs": [
    {
     "data": {
      "text/html": [
       "<div>\n",
       "<style scoped>\n",
       "    .dataframe tbody tr th:only-of-type {\n",
       "        vertical-align: middle;\n",
       "    }\n",
       "\n",
       "    .dataframe tbody tr th {\n",
       "        vertical-align: top;\n",
       "    }\n",
       "\n",
       "    .dataframe thead th {\n",
       "        text-align: right;\n",
       "    }\n",
       "</style>\n",
       "<table border=\"1\" class=\"dataframe\">\n",
       "  <thead>\n",
       "    <tr style=\"text-align: right;\">\n",
       "      <th></th>\n",
       "      <th>Id</th>\n",
       "      <th>ProductId</th>\n",
       "      <th>UserId</th>\n",
       "      <th>ProfileName</th>\n",
       "      <th>HelpfulnessNumerator</th>\n",
       "      <th>HelpfulnessDenominator</th>\n",
       "      <th>Score</th>\n",
       "      <th>Time</th>\n",
       "      <th>Summary</th>\n",
       "      <th>Text</th>\n",
       "    </tr>\n",
       "  </thead>\n",
       "  <tbody>\n",
       "    <tr>\n",
       "      <td>0</td>\n",
       "      <td>1</td>\n",
       "      <td>B001E4KFG0</td>\n",
       "      <td>A3SGXH7AUHU8GW</td>\n",
       "      <td>delmartian</td>\n",
       "      <td>1</td>\n",
       "      <td>1</td>\n",
       "      <td>5</td>\n",
       "      <td>1303862400</td>\n",
       "      <td>Good Quality Dog Food</td>\n",
       "      <td>I have bought several of the Vitality canned d...</td>\n",
       "    </tr>\n",
       "    <tr>\n",
       "      <td>1</td>\n",
       "      <td>2</td>\n",
       "      <td>B00813GRG4</td>\n",
       "      <td>A1D87F6ZCVE5NK</td>\n",
       "      <td>dll pa</td>\n",
       "      <td>0</td>\n",
       "      <td>0</td>\n",
       "      <td>1</td>\n",
       "      <td>1346976000</td>\n",
       "      <td>Not as Advertised</td>\n",
       "      <td>Product arrived labeled as Jumbo Salted Peanut...</td>\n",
       "    </tr>\n",
       "    <tr>\n",
       "      <td>2</td>\n",
       "      <td>3</td>\n",
       "      <td>B000LQOCH0</td>\n",
       "      <td>ABXLMWJIXXAIN</td>\n",
       "      <td>Natalia Corres \"Natalia Corres\"</td>\n",
       "      <td>1</td>\n",
       "      <td>1</td>\n",
       "      <td>4</td>\n",
       "      <td>1219017600</td>\n",
       "      <td>\"Delight\" says it all</td>\n",
       "      <td>This is a confection that has been around a fe...</td>\n",
       "    </tr>\n",
       "    <tr>\n",
       "      <td>3</td>\n",
       "      <td>4</td>\n",
       "      <td>B000UA0QIQ</td>\n",
       "      <td>A395BORC6FGVXV</td>\n",
       "      <td>Karl</td>\n",
       "      <td>3</td>\n",
       "      <td>3</td>\n",
       "      <td>2</td>\n",
       "      <td>1307923200</td>\n",
       "      <td>Cough Medicine</td>\n",
       "      <td>If you are looking for the secret ingredient i...</td>\n",
       "    </tr>\n",
       "    <tr>\n",
       "      <td>4</td>\n",
       "      <td>5</td>\n",
       "      <td>B006K2ZZ7K</td>\n",
       "      <td>A1UQRSCLF8GW1T</td>\n",
       "      <td>Michael D. Bigham \"M. Wassir\"</td>\n",
       "      <td>0</td>\n",
       "      <td>0</td>\n",
       "      <td>5</td>\n",
       "      <td>1350777600</td>\n",
       "      <td>Great taffy</td>\n",
       "      <td>Great taffy at a great price.  There was a wid...</td>\n",
       "    </tr>\n",
       "  </tbody>\n",
       "</table>\n",
       "</div>"
      ],
      "text/plain": [
       "   Id   ProductId          UserId                      ProfileName  \\\n",
       "0   1  B001E4KFG0  A3SGXH7AUHU8GW                       delmartian   \n",
       "1   2  B00813GRG4  A1D87F6ZCVE5NK                           dll pa   \n",
       "2   3  B000LQOCH0   ABXLMWJIXXAIN  Natalia Corres \"Natalia Corres\"   \n",
       "3   4  B000UA0QIQ  A395BORC6FGVXV                             Karl   \n",
       "4   5  B006K2ZZ7K  A1UQRSCLF8GW1T    Michael D. Bigham \"M. Wassir\"   \n",
       "\n",
       "   HelpfulnessNumerator  HelpfulnessDenominator  Score        Time  \\\n",
       "0                     1                       1      5  1303862400   \n",
       "1                     0                       0      1  1346976000   \n",
       "2                     1                       1      4  1219017600   \n",
       "3                     3                       3      2  1307923200   \n",
       "4                     0                       0      5  1350777600   \n",
       "\n",
       "                 Summary                                               Text  \n",
       "0  Good Quality Dog Food  I have bought several of the Vitality canned d...  \n",
       "1      Not as Advertised  Product arrived labeled as Jumbo Salted Peanut...  \n",
       "2  \"Delight\" says it all  This is a confection that has been around a fe...  \n",
       "3         Cough Medicine  If you are looking for the secret ingredient i...  \n",
       "4            Great taffy  Great taffy at a great price.  There was a wid...  "
      ]
     },
     "execution_count": 5,
     "metadata": {},
     "output_type": "execute_result"
    }
   ],
   "source": [
    "raw = pd.read_csv('data/reviews.csv')\n",
    "raw[:5]"
   ]
  },
  {
   "cell_type": "code",
   "execution_count": 7,
   "metadata": {},
   "outputs": [
    {
     "data": {
      "text/plain": [
       "Index(['Id', 'ProductId', 'UserId', 'ProfileName', 'HelpfulnessNumerator',\n",
       "       'HelpfulnessDenominator', 'Score', 'Time', 'Summary', 'Text'],\n",
       "      dtype='object')"
      ]
     },
     "execution_count": 7,
     "metadata": {},
     "output_type": "execute_result"
    }
   ],
   "source": [
    "raw.columns"
   ]
  },
  {
   "cell_type": "code",
   "execution_count": 50,
   "metadata": {},
   "outputs": [
    {
     "data": {
      "text/plain": [
       "(568454, 10)"
      ]
     },
     "execution_count": 50,
     "metadata": {},
     "output_type": "execute_result"
    }
   ],
   "source": [
    "raw.shape"
   ]
  },
  {
   "cell_type": "code",
   "execution_count": 133,
   "metadata": {},
   "outputs": [
    {
     "data": {
      "text/plain": [
       "Id                         int64\n",
       "ProductId                 object\n",
       "UserId                    object\n",
       "ProfileName               object\n",
       "HelpfulnessNumerator       int64\n",
       "HelpfulnessDenominator     int64\n",
       "Score                      int64\n",
       "Time                       int64\n",
       "Summary                   object\n",
       "Text                      object\n",
       "dtype: object"
      ]
     },
     "execution_count": 133,
     "metadata": {},
     "output_type": "execute_result"
    }
   ],
   "source": [
    "raw.dtypes"
   ]
  },
  {
   "cell_type": "markdown",
   "metadata": {},
   "source": [
    "#### 2.1. Deduplicate"
   ]
  },
  {
   "cell_type": "code",
   "execution_count": 105,
   "metadata": {},
   "outputs": [
    {
     "data": {
      "text/plain": [
       "((568173, 9), (568454, 10))"
      ]
     },
     "execution_count": 105,
     "metadata": {},
     "output_type": "execute_result"
    }
   ],
   "source": [
    "raw[raw.columns.tolist()[1:]].drop_duplicates().shape, raw.shape"
   ]
  },
  {
   "cell_type": "markdown",
   "metadata": {},
   "source": [
    "Around 300 values are duplicates except for the id column. We will drop duplicates, since they don't bring any new information "
   ]
  },
  {
   "cell_type": "code",
   "execution_count": 165,
   "metadata": {
    "scrolled": true
   },
   "outputs": [
    {
     "data": {
      "text/plain": [
       "(568173, 10)"
      ]
     },
     "execution_count": 165,
     "metadata": {},
     "output_type": "execute_result"
    }
   ],
   "source": [
    "df = raw.drop_duplicates(subset=raw.columns.tolist()[1:])\n",
    "df.shape"
   ]
  },
  {
   "cell_type": "markdown",
   "metadata": {},
   "source": [
    "#### 2.1.1. Moreover I want to check duplicates for the couple product-user"
   ]
  },
  {
   "cell_type": "code",
   "execution_count": 166,
   "metadata": {},
   "outputs": [
    {
     "data": {
      "text/html": [
       "<div>\n",
       "<style scoped>\n",
       "    .dataframe tbody tr th:only-of-type {\n",
       "        vertical-align: middle;\n",
       "    }\n",
       "\n",
       "    .dataframe tbody tr th {\n",
       "        vertical-align: top;\n",
       "    }\n",
       "\n",
       "    .dataframe thead th {\n",
       "        text-align: right;\n",
       "    }\n",
       "</style>\n",
       "<table border=\"1\" class=\"dataframe\">\n",
       "  <thead>\n",
       "    <tr style=\"text-align: right;\">\n",
       "      <th></th>\n",
       "      <th>ProductId</th>\n",
       "      <th>UserId</th>\n",
       "      <th>Id|list</th>\n",
       "      <th>Id|len</th>\n",
       "      <th>ProfileName|list</th>\n",
       "      <th>ProfileName|len</th>\n",
       "      <th>HelpfulnessNumerator|list</th>\n",
       "      <th>HelpfulnessNumerator|len</th>\n",
       "      <th>HelpfulnessDenominator|list</th>\n",
       "      <th>HelpfulnessDenominator|len</th>\n",
       "      <th>Score|list</th>\n",
       "      <th>Score|len</th>\n",
       "      <th>Time|list</th>\n",
       "      <th>Time|len</th>\n",
       "      <th>Summary|list</th>\n",
       "      <th>Summary|len</th>\n",
       "      <th>Text|list</th>\n",
       "      <th>Text|len</th>\n",
       "    </tr>\n",
       "  </thead>\n",
       "  <tbody>\n",
       "    <tr>\n",
       "      <td>276</td>\n",
       "      <td>B000G6RYNE</td>\n",
       "      <td>A3PJZ8TU8FDQ1K</td>\n",
       "      <td>[467, 468, 575, 603, 604]</td>\n",
       "      <td>5</td>\n",
       "      <td>[Jared Castle, Jared Castle, Jared Castle, Jar...</td>\n",
       "      <td>5</td>\n",
       "      <td>[0, 0, 2, 1, 1]</td>\n",
       "      <td>5</td>\n",
       "      <td>[0, 0, 2, 1, 1]</td>\n",
       "      <td>5</td>\n",
       "      <td>[5, 5, 5, 5, 5]</td>\n",
       "      <td>5</td>\n",
       "      <td>[1231718400, 1231718400, 1231718400, 123707520...</td>\n",
       "      <td>5</td>\n",
       "      <td>[One bite and you'll become a \"chippoisseur\", ...</td>\n",
       "      <td>5</td>\n",
       "      <td>[I'm addicted to salty and tangy flavors, so w...</td>\n",
       "      <td>5</td>\n",
       "    </tr>\n",
       "    <tr>\n",
       "      <td>55</td>\n",
       "      <td>B000ER6YO0</td>\n",
       "      <td>A3NHUQ33CFH3VM</td>\n",
       "      <td>[900, 901, 902, 904]</td>\n",
       "      <td>4</td>\n",
       "      <td>[Citizen John, Citizen John, Citizen John, Cit...</td>\n",
       "      <td>4</td>\n",
       "      <td>[8, 6, 5, 3]</td>\n",
       "      <td>4</td>\n",
       "      <td>[8, 6, 5, 3]</td>\n",
       "      <td>4</td>\n",
       "      <td>[3, 4, 3, 3]</td>\n",
       "      <td>4</td>\n",
       "      <td>[1248912000, 1255651200, 1255651200, 1255651200]</td>\n",
       "      <td>4</td>\n",
       "      <td>[Our twins love this one. With the subscriptio...</td>\n",
       "      <td>4</td>\n",
       "      <td>[Both our twins love this one right from the s...</td>\n",
       "      <td>4</td>\n",
       "    </tr>\n",
       "    <tr>\n",
       "      <td>282</td>\n",
       "      <td>B000G6RYNE</td>\n",
       "      <td>A3RMGIKUWGPZOK</td>\n",
       "      <td>[463, 541, 572, 601]</td>\n",
       "      <td>4</td>\n",
       "      <td>[Jean Visnefski, Jean Visnefski, Jean Visnefsk...</td>\n",
       "      <td>4</td>\n",
       "      <td>[0, 1, 2, 1]</td>\n",
       "      <td>4</td>\n",
       "      <td>[0, 3, 2, 1]</td>\n",
       "      <td>4</td>\n",
       "      <td>[5, 3, 5, 5]</td>\n",
       "      <td>4</td>\n",
       "      <td>[1245024000, 1245024000, 1252108800, 1245024000]</td>\n",
       "      <td>4</td>\n",
       "      <td>[One of Their Best Flavors, Not the Best, Grea...</td>\n",
       "      <td>4</td>\n",
       "      <td>[Kettle Chips flavors can be hit or miss.  Som...</td>\n",
       "      <td>4</td>\n",
       "    </tr>\n",
       "    <tr>\n",
       "      <td>240</td>\n",
       "      <td>B000G6RYNE</td>\n",
       "      <td>A31N6KB160O508</td>\n",
       "      <td>[472, 486, 487]</td>\n",
       "      <td>3</td>\n",
       "      <td>[Fran W., Fran W., Fran W.]</td>\n",
       "      <td>3</td>\n",
       "      <td>[0, 0, 0]</td>\n",
       "      <td>3</td>\n",
       "      <td>[0, 0, 0]</td>\n",
       "      <td>3</td>\n",
       "      <td>[4, 4, 4]</td>\n",
       "      <td>3</td>\n",
       "      <td>[1219795200, 1214006400, 1214006400]</td>\n",
       "      <td>3</td>\n",
       "      <td>[Pretty good tasting chip, Not bad but a littl...</td>\n",
       "      <td>3</td>\n",
       "      <td>[It took a while to get used to these chips bu...</td>\n",
       "      <td>3</td>\n",
       "    </tr>\n",
       "    <tr>\n",
       "      <td>224</td>\n",
       "      <td>B000G6RYNE</td>\n",
       "      <td>A2OEUROGZDTXUJ</td>\n",
       "      <td>[432, 504, 588]</td>\n",
       "      <td>3</td>\n",
       "      <td>[J. Graves, J. Graves, J. Graves]</td>\n",
       "      <td>3</td>\n",
       "      <td>[0, 1, 1]</td>\n",
       "      <td>3</td>\n",
       "      <td>[0, 2, 1]</td>\n",
       "      <td>3</td>\n",
       "      <td>[5, 4, 5]</td>\n",
       "      <td>3</td>\n",
       "      <td>[1327881600, 1327968000, 1327968000]</td>\n",
       "      <td>3</td>\n",
       "      <td>[Delicious!, I like them., My favorite Kettle ...</td>\n",
       "      <td>3</td>\n",
       "      <td>[Now, I haven't done a side-by-side comparison...</td>\n",
       "      <td>3</td>\n",
       "    </tr>\n",
       "  </tbody>\n",
       "</table>\n",
       "</div>"
      ],
      "text/plain": [
       "      ProductId          UserId                    Id|list  Id|len  \\\n",
       "276  B000G6RYNE  A3PJZ8TU8FDQ1K  [467, 468, 575, 603, 604]       5   \n",
       "55   B000ER6YO0  A3NHUQ33CFH3VM       [900, 901, 902, 904]       4   \n",
       "282  B000G6RYNE  A3RMGIKUWGPZOK       [463, 541, 572, 601]       4   \n",
       "240  B000G6RYNE  A31N6KB160O508            [472, 486, 487]       3   \n",
       "224  B000G6RYNE  A2OEUROGZDTXUJ            [432, 504, 588]       3   \n",
       "\n",
       "                                      ProfileName|list  ProfileName|len  \\\n",
       "276  [Jared Castle, Jared Castle, Jared Castle, Jar...                5   \n",
       "55   [Citizen John, Citizen John, Citizen John, Cit...                4   \n",
       "282  [Jean Visnefski, Jean Visnefski, Jean Visnefsk...                4   \n",
       "240                        [Fran W., Fran W., Fran W.]                3   \n",
       "224                  [J. Graves, J. Graves, J. Graves]                3   \n",
       "\n",
       "    HelpfulnessNumerator|list  HelpfulnessNumerator|len  \\\n",
       "276           [0, 0, 2, 1, 1]                         5   \n",
       "55               [8, 6, 5, 3]                         4   \n",
       "282              [0, 1, 2, 1]                         4   \n",
       "240                 [0, 0, 0]                         3   \n",
       "224                 [0, 1, 1]                         3   \n",
       "\n",
       "    HelpfulnessDenominator|list  HelpfulnessDenominator|len       Score|list  \\\n",
       "276             [0, 0, 2, 1, 1]                           5  [5, 5, 5, 5, 5]   \n",
       "55                 [8, 6, 5, 3]                           4     [3, 4, 3, 3]   \n",
       "282                [0, 3, 2, 1]                           4     [5, 3, 5, 5]   \n",
       "240                   [0, 0, 0]                           3        [4, 4, 4]   \n",
       "224                   [0, 2, 1]                           3        [5, 4, 5]   \n",
       "\n",
       "     Score|len                                          Time|list  Time|len  \\\n",
       "276          5  [1231718400, 1231718400, 1231718400, 123707520...         5   \n",
       "55           4   [1248912000, 1255651200, 1255651200, 1255651200]         4   \n",
       "282          4   [1245024000, 1245024000, 1252108800, 1245024000]         4   \n",
       "240          3               [1219795200, 1214006400, 1214006400]         3   \n",
       "224          3               [1327881600, 1327968000, 1327968000]         3   \n",
       "\n",
       "                                          Summary|list  Summary|len  \\\n",
       "276  [One bite and you'll become a \"chippoisseur\", ...            5   \n",
       "55   [Our twins love this one. With the subscriptio...            4   \n",
       "282  [One of Their Best Flavors, Not the Best, Grea...            4   \n",
       "240  [Pretty good tasting chip, Not bad but a littl...            3   \n",
       "224  [Delicious!, I like them., My favorite Kettle ...            3   \n",
       "\n",
       "                                             Text|list  Text|len  \n",
       "276  [I'm addicted to salty and tangy flavors, so w...         5  \n",
       "55   [Both our twins love this one right from the s...         4  \n",
       "282  [Kettle Chips flavors can be hit or miss.  Som...         4  \n",
       "240  [It took a while to get used to these chips bu...         3  \n",
       "224  [Now, I haven't done a side-by-side comparison...         3  "
      ]
     },
     "execution_count": 166,
     "metadata": {},
     "output_type": "execute_result"
    }
   ],
   "source": [
    "tmp = df[:1000].groupby(['ProductId', 'UserId']).agg([list, len]).reset_index()\n",
    "tmp.columns = tmp.columns.map('|'.join).str.strip('|')\n",
    "tmp.sort_values('Id|len', ascending=False)[:5]"
   ]
  },
  {
   "cell_type": "code",
   "execution_count": 167,
   "metadata": {},
   "outputs": [
    {
     "data": {
      "text/html": [
       "<div>\n",
       "<style scoped>\n",
       "    .dataframe tbody tr th:only-of-type {\n",
       "        vertical-align: middle;\n",
       "    }\n",
       "\n",
       "    .dataframe tbody tr th {\n",
       "        vertical-align: top;\n",
       "    }\n",
       "\n",
       "    .dataframe thead th {\n",
       "        text-align: right;\n",
       "    }\n",
       "</style>\n",
       "<table border=\"1\" class=\"dataframe\">\n",
       "  <thead>\n",
       "    <tr style=\"text-align: right;\">\n",
       "      <th></th>\n",
       "      <th>ProductId</th>\n",
       "      <th>UserId</th>\n",
       "      <th>Id|list</th>\n",
       "      <th>Id|len</th>\n",
       "      <th>ProfileName|list</th>\n",
       "      <th>ProfileName|len</th>\n",
       "      <th>HelpfulnessNumerator|list</th>\n",
       "      <th>HelpfulnessNumerator|len</th>\n",
       "      <th>HelpfulnessDenominator|list</th>\n",
       "      <th>HelpfulnessDenominator|len</th>\n",
       "      <th>Score|list</th>\n",
       "      <th>Score|len</th>\n",
       "      <th>Time|list</th>\n",
       "      <th>Time|len</th>\n",
       "      <th>Summary|list</th>\n",
       "      <th>Summary|len</th>\n",
       "      <th>Text|list</th>\n",
       "      <th>Text|len</th>\n",
       "    </tr>\n",
       "  </thead>\n",
       "  <tbody>\n",
       "    <tr>\n",
       "      <td>276</td>\n",
       "      <td>B000G6RYNE</td>\n",
       "      <td>A3PJZ8TU8FDQ1K</td>\n",
       "      <td>[467, 468, 575, 603, 604]</td>\n",
       "      <td>5</td>\n",
       "      <td>[Jared Castle, Jared Castle, Jared Castle, Jar...</td>\n",
       "      <td>5</td>\n",
       "      <td>[0, 0, 2, 1, 1]</td>\n",
       "      <td>5</td>\n",
       "      <td>[0, 0, 2, 1, 1]</td>\n",
       "      <td>5</td>\n",
       "      <td>[5, 5, 5, 5, 5]</td>\n",
       "      <td>5</td>\n",
       "      <td>[1231718400, 1231718400, 1231718400, 123707520...</td>\n",
       "      <td>5</td>\n",
       "      <td>[One bite and you'll become a \"chippoisseur\", ...</td>\n",
       "      <td>5</td>\n",
       "      <td>[I'm addicted to salty and tangy flavors, so w...</td>\n",
       "      <td>5</td>\n",
       "    </tr>\n",
       "    <tr>\n",
       "      <td>55</td>\n",
       "      <td>B000ER6YO0</td>\n",
       "      <td>A3NHUQ33CFH3VM</td>\n",
       "      <td>[900, 901, 902, 904]</td>\n",
       "      <td>4</td>\n",
       "      <td>[Citizen John, Citizen John, Citizen John, Cit...</td>\n",
       "      <td>4</td>\n",
       "      <td>[8, 6, 5, 3]</td>\n",
       "      <td>4</td>\n",
       "      <td>[8, 6, 5, 3]</td>\n",
       "      <td>4</td>\n",
       "      <td>[3, 4, 3, 3]</td>\n",
       "      <td>4</td>\n",
       "      <td>[1248912000, 1255651200, 1255651200, 1255651200]</td>\n",
       "      <td>4</td>\n",
       "      <td>[Our twins love this one. With the subscriptio...</td>\n",
       "      <td>4</td>\n",
       "      <td>[Both our twins love this one right from the s...</td>\n",
       "      <td>4</td>\n",
       "    </tr>\n",
       "    <tr>\n",
       "      <td>282</td>\n",
       "      <td>B000G6RYNE</td>\n",
       "      <td>A3RMGIKUWGPZOK</td>\n",
       "      <td>[463, 541, 572, 601]</td>\n",
       "      <td>4</td>\n",
       "      <td>[Jean Visnefski, Jean Visnefski, Jean Visnefsk...</td>\n",
       "      <td>4</td>\n",
       "      <td>[0, 1, 2, 1]</td>\n",
       "      <td>4</td>\n",
       "      <td>[0, 3, 2, 1]</td>\n",
       "      <td>4</td>\n",
       "      <td>[5, 3, 5, 5]</td>\n",
       "      <td>4</td>\n",
       "      <td>[1245024000, 1245024000, 1252108800, 1245024000]</td>\n",
       "      <td>4</td>\n",
       "      <td>[One of Their Best Flavors, Not the Best, Grea...</td>\n",
       "      <td>4</td>\n",
       "      <td>[Kettle Chips flavors can be hit or miss.  Som...</td>\n",
       "      <td>4</td>\n",
       "    </tr>\n",
       "    <tr>\n",
       "      <td>240</td>\n",
       "      <td>B000G6RYNE</td>\n",
       "      <td>A31N6KB160O508</td>\n",
       "      <td>[472, 486, 487]</td>\n",
       "      <td>3</td>\n",
       "      <td>[Fran W., Fran W., Fran W.]</td>\n",
       "      <td>3</td>\n",
       "      <td>[0, 0, 0]</td>\n",
       "      <td>3</td>\n",
       "      <td>[0, 0, 0]</td>\n",
       "      <td>3</td>\n",
       "      <td>[4, 4, 4]</td>\n",
       "      <td>3</td>\n",
       "      <td>[1219795200, 1214006400, 1214006400]</td>\n",
       "      <td>3</td>\n",
       "      <td>[Pretty good tasting chip, Not bad but a littl...</td>\n",
       "      <td>3</td>\n",
       "      <td>[It took a while to get used to these chips bu...</td>\n",
       "      <td>3</td>\n",
       "    </tr>\n",
       "    <tr>\n",
       "      <td>224</td>\n",
       "      <td>B000G6RYNE</td>\n",
       "      <td>A2OEUROGZDTXUJ</td>\n",
       "      <td>[432, 504, 588]</td>\n",
       "      <td>3</td>\n",
       "      <td>[J. Graves, J. Graves, J. Graves]</td>\n",
       "      <td>3</td>\n",
       "      <td>[0, 1, 1]</td>\n",
       "      <td>3</td>\n",
       "      <td>[0, 2, 1]</td>\n",
       "      <td>3</td>\n",
       "      <td>[5, 4, 5]</td>\n",
       "      <td>3</td>\n",
       "      <td>[1327881600, 1327968000, 1327968000]</td>\n",
       "      <td>3</td>\n",
       "      <td>[Delicious!, I like them., My favorite Kettle ...</td>\n",
       "      <td>3</td>\n",
       "      <td>[Now, I haven't done a side-by-side comparison...</td>\n",
       "      <td>3</td>\n",
       "    </tr>\n",
       "  </tbody>\n",
       "</table>\n",
       "</div>"
      ],
      "text/plain": [
       "      ProductId          UserId                    Id|list  Id|len  \\\n",
       "276  B000G6RYNE  A3PJZ8TU8FDQ1K  [467, 468, 575, 603, 604]       5   \n",
       "55   B000ER6YO0  A3NHUQ33CFH3VM       [900, 901, 902, 904]       4   \n",
       "282  B000G6RYNE  A3RMGIKUWGPZOK       [463, 541, 572, 601]       4   \n",
       "240  B000G6RYNE  A31N6KB160O508            [472, 486, 487]       3   \n",
       "224  B000G6RYNE  A2OEUROGZDTXUJ            [432, 504, 588]       3   \n",
       "\n",
       "                                      ProfileName|list  ProfileName|len  \\\n",
       "276  [Jared Castle, Jared Castle, Jared Castle, Jar...                5   \n",
       "55   [Citizen John, Citizen John, Citizen John, Cit...                4   \n",
       "282  [Jean Visnefski, Jean Visnefski, Jean Visnefsk...                4   \n",
       "240                        [Fran W., Fran W., Fran W.]                3   \n",
       "224                  [J. Graves, J. Graves, J. Graves]                3   \n",
       "\n",
       "    HelpfulnessNumerator|list  HelpfulnessNumerator|len  \\\n",
       "276           [0, 0, 2, 1, 1]                         5   \n",
       "55               [8, 6, 5, 3]                         4   \n",
       "282              [0, 1, 2, 1]                         4   \n",
       "240                 [0, 0, 0]                         3   \n",
       "224                 [0, 1, 1]                         3   \n",
       "\n",
       "    HelpfulnessDenominator|list  HelpfulnessDenominator|len       Score|list  \\\n",
       "276             [0, 0, 2, 1, 1]                           5  [5, 5, 5, 5, 5]   \n",
       "55                 [8, 6, 5, 3]                           4     [3, 4, 3, 3]   \n",
       "282                [0, 3, 2, 1]                           4     [5, 3, 5, 5]   \n",
       "240                   [0, 0, 0]                           3        [4, 4, 4]   \n",
       "224                   [0, 2, 1]                           3        [5, 4, 5]   \n",
       "\n",
       "     Score|len                                          Time|list  Time|len  \\\n",
       "276          5  [1231718400, 1231718400, 1231718400, 123707520...         5   \n",
       "55           4   [1248912000, 1255651200, 1255651200, 1255651200]         4   \n",
       "282          4   [1245024000, 1245024000, 1252108800, 1245024000]         4   \n",
       "240          3               [1219795200, 1214006400, 1214006400]         3   \n",
       "224          3               [1327881600, 1327968000, 1327968000]         3   \n",
       "\n",
       "                                          Summary|list  Summary|len  \\\n",
       "276  [One bite and you'll become a \"chippoisseur\", ...            5   \n",
       "55   [Our twins love this one. With the subscriptio...            4   \n",
       "282  [One of Their Best Flavors, Not the Best, Grea...            4   \n",
       "240  [Pretty good tasting chip, Not bad but a littl...            3   \n",
       "224  [Delicious!, I like them., My favorite Kettle ...            3   \n",
       "\n",
       "                                             Text|list  Text|len  \n",
       "276  [I'm addicted to salty and tangy flavors, so w...         5  \n",
       "55   [Both our twins love this one right from the s...         4  \n",
       "282  [Kettle Chips flavors can be hit or miss.  Som...         4  \n",
       "240  [It took a while to get used to these chips bu...         3  \n",
       "224  [Now, I haven't done a side-by-side comparison...         3  "
      ]
     },
     "execution_count": 167,
     "metadata": {},
     "output_type": "execute_result"
    }
   ],
   "source": [
    "tmp.sort_values('Id|len', ascending=False)[:5]"
   ]
  },
  {
   "cell_type": "markdown",
   "metadata": {},
   "source": [
    "I'll take the first of them to see what is going on"
   ]
  },
  {
   "cell_type": "code",
   "execution_count": 168,
   "metadata": {
    "scrolled": false
   },
   "outputs": [
    {
     "data": {
      "text/html": [
       "<div>\n",
       "<style scoped>\n",
       "    .dataframe tbody tr th:only-of-type {\n",
       "        vertical-align: middle;\n",
       "    }\n",
       "\n",
       "    .dataframe tbody tr th {\n",
       "        vertical-align: top;\n",
       "    }\n",
       "\n",
       "    .dataframe thead th {\n",
       "        text-align: right;\n",
       "    }\n",
       "</style>\n",
       "<table border=\"1\" class=\"dataframe\">\n",
       "  <thead>\n",
       "    <tr style=\"text-align: right;\">\n",
       "      <th></th>\n",
       "      <th>Id</th>\n",
       "      <th>ProductId</th>\n",
       "      <th>UserId</th>\n",
       "      <th>ProfileName</th>\n",
       "      <th>HelpfulnessNumerator</th>\n",
       "      <th>HelpfulnessDenominator</th>\n",
       "      <th>Score</th>\n",
       "      <th>Time</th>\n",
       "      <th>Summary</th>\n",
       "      <th>Text</th>\n",
       "    </tr>\n",
       "  </thead>\n",
       "  <tbody>\n",
       "    <tr>\n",
       "      <td>466</td>\n",
       "      <td>467</td>\n",
       "      <td>B000G6RYNE</td>\n",
       "      <td>A3PJZ8TU8FDQ1K</td>\n",
       "      <td>Jared Castle</td>\n",
       "      <td>0</td>\n",
       "      <td>0</td>\n",
       "      <td>5</td>\n",
       "      <td>1231718400</td>\n",
       "      <td>One bite and you'll become a \"chippoisseur\"</td>\n",
       "      <td>I'm addicted to salty and tangy flavors, so wh...</td>\n",
       "    </tr>\n",
       "    <tr>\n",
       "      <td>467</td>\n",
       "      <td>468</td>\n",
       "      <td>B000G6RYNE</td>\n",
       "      <td>A3PJZ8TU8FDQ1K</td>\n",
       "      <td>Jared Castle</td>\n",
       "      <td>0</td>\n",
       "      <td>0</td>\n",
       "      <td>5</td>\n",
       "      <td>1231718400</td>\n",
       "      <td>Crunchy, salty, sweet...finally, a Superbowl s...</td>\n",
       "      <td>These Honey Dijon chips bring a terrific balan...</td>\n",
       "    </tr>\n",
       "    <tr>\n",
       "      <td>574</td>\n",
       "      <td>575</td>\n",
       "      <td>B000G6RYNE</td>\n",
       "      <td>A3PJZ8TU8FDQ1K</td>\n",
       "      <td>Jared Castle</td>\n",
       "      <td>2</td>\n",
       "      <td>2</td>\n",
       "      <td>5</td>\n",
       "      <td>1231718400</td>\n",
       "      <td>One bite and you'll become a \"chippoisseur\"</td>\n",
       "      <td>I'm addicted to salty and tangy flavors, so wh...</td>\n",
       "    </tr>\n",
       "    <tr>\n",
       "      <td>602</td>\n",
       "      <td>603</td>\n",
       "      <td>B000G6RYNE</td>\n",
       "      <td>A3PJZ8TU8FDQ1K</td>\n",
       "      <td>Jared Castle</td>\n",
       "      <td>1</td>\n",
       "      <td>1</td>\n",
       "      <td>5</td>\n",
       "      <td>1237075200</td>\n",
       "      <td>One bite and you'll become a \"chippoisseur\"</td>\n",
       "      <td>As an Oregonian, I make a point of sharing the...</td>\n",
       "    </tr>\n",
       "    <tr>\n",
       "      <td>603</td>\n",
       "      <td>604</td>\n",
       "      <td>B000G6RYNE</td>\n",
       "      <td>A3PJZ8TU8FDQ1K</td>\n",
       "      <td>Jared Castle</td>\n",
       "      <td>1</td>\n",
       "      <td>1</td>\n",
       "      <td>5</td>\n",
       "      <td>1229385600</td>\n",
       "      <td>One bite and you'll become a \"chippoisseur\"</td>\n",
       "      <td>I'm addicted to salty and tangy flavors, so wh...</td>\n",
       "    </tr>\n",
       "  </tbody>\n",
       "</table>\n",
       "</div>"
      ],
      "text/plain": [
       "      Id   ProductId          UserId   ProfileName  HelpfulnessNumerator  \\\n",
       "466  467  B000G6RYNE  A3PJZ8TU8FDQ1K  Jared Castle                     0   \n",
       "467  468  B000G6RYNE  A3PJZ8TU8FDQ1K  Jared Castle                     0   \n",
       "574  575  B000G6RYNE  A3PJZ8TU8FDQ1K  Jared Castle                     2   \n",
       "602  603  B000G6RYNE  A3PJZ8TU8FDQ1K  Jared Castle                     1   \n",
       "603  604  B000G6RYNE  A3PJZ8TU8FDQ1K  Jared Castle                     1   \n",
       "\n",
       "     HelpfulnessDenominator  Score        Time  \\\n",
       "466                       0      5  1231718400   \n",
       "467                       0      5  1231718400   \n",
       "574                       2      5  1231718400   \n",
       "602                       1      5  1237075200   \n",
       "603                       1      5  1229385600   \n",
       "\n",
       "                                               Summary  \\\n",
       "466        One bite and you'll become a \"chippoisseur\"   \n",
       "467  Crunchy, salty, sweet...finally, a Superbowl s...   \n",
       "574        One bite and you'll become a \"chippoisseur\"   \n",
       "602        One bite and you'll become a \"chippoisseur\"   \n",
       "603        One bite and you'll become a \"chippoisseur\"   \n",
       "\n",
       "                                                  Text  \n",
       "466  I'm addicted to salty and tangy flavors, so wh...  \n",
       "467  These Honey Dijon chips bring a terrific balan...  \n",
       "574  I'm addicted to salty and tangy flavors, so wh...  \n",
       "602  As an Oregonian, I make a point of sharing the...  \n",
       "603  I'm addicted to salty and tangy flavors, so wh...  "
      ]
     },
     "execution_count": 168,
     "metadata": {},
     "output_type": "execute_result"
    }
   ],
   "source": [
    "df[(df['ProductId']=='B000G6RYNE') & (df['UserId']=='A3PJZ8TU8FDQ1K')]"
   ]
  },
  {
   "cell_type": "markdown",
   "metadata": {},
   "source": [
    "it is not very clear what happens, my assumption is that each row is generated each time there is a change in the review, let's take the last available date "
   ]
  },
  {
   "cell_type": "code",
   "execution_count": 169,
   "metadata": {},
   "outputs": [
    {
     "data": {
      "text/html": [
       "<div>\n",
       "<style scoped>\n",
       "    .dataframe tbody tr th:only-of-type {\n",
       "        vertical-align: middle;\n",
       "    }\n",
       "\n",
       "    .dataframe tbody tr th {\n",
       "        vertical-align: top;\n",
       "    }\n",
       "\n",
       "    .dataframe thead th {\n",
       "        text-align: right;\n",
       "    }\n",
       "</style>\n",
       "<table border=\"1\" class=\"dataframe\">\n",
       "  <thead>\n",
       "    <tr style=\"text-align: right;\">\n",
       "      <th></th>\n",
       "      <th>Id</th>\n",
       "      <th>ProductId</th>\n",
       "      <th>UserId</th>\n",
       "      <th>ProfileName</th>\n",
       "      <th>HelpfulnessNumerator</th>\n",
       "      <th>HelpfulnessDenominator</th>\n",
       "      <th>Score</th>\n",
       "      <th>Time</th>\n",
       "      <th>Summary</th>\n",
       "      <th>Text</th>\n",
       "    </tr>\n",
       "  </thead>\n",
       "  <tbody>\n",
       "    <tr>\n",
       "      <td>150523</td>\n",
       "      <td>150524</td>\n",
       "      <td>0006641040</td>\n",
       "      <td>ACITT7DI6IDDL</td>\n",
       "      <td>shari zychinski</td>\n",
       "      <td>0</td>\n",
       "      <td>0</td>\n",
       "      <td>5</td>\n",
       "      <td>939340800</td>\n",
       "      <td>EVERY book is educational</td>\n",
       "      <td>this witty little book makes my son laugh at l...</td>\n",
       "    </tr>\n",
       "    <tr>\n",
       "      <td>150500</td>\n",
       "      <td>150501</td>\n",
       "      <td>0006641040</td>\n",
       "      <td>AJ46FKXOVC7NR</td>\n",
       "      <td>Nicholas A Mesiano</td>\n",
       "      <td>2</td>\n",
       "      <td>2</td>\n",
       "      <td>5</td>\n",
       "      <td>940809600</td>\n",
       "      <td>This whole series is great way to spend time w...</td>\n",
       "      <td>I can remember seeing the show when it aired o...</td>\n",
       "    </tr>\n",
       "    <tr>\n",
       "      <td>451855</td>\n",
       "      <td>451856</td>\n",
       "      <td>B00004CXX9</td>\n",
       "      <td>AIUWLEQ1ADEG5</td>\n",
       "      <td>Elizabeth Medina</td>\n",
       "      <td>0</td>\n",
       "      <td>0</td>\n",
       "      <td>5</td>\n",
       "      <td>944092800</td>\n",
       "      <td>Entertainingl Funny!</td>\n",
       "      <td>Beetlejuice is a well written movie ..... ever...</td>\n",
       "    </tr>\n",
       "    <tr>\n",
       "      <td>230284</td>\n",
       "      <td>230285</td>\n",
       "      <td>B00004RYGX</td>\n",
       "      <td>A344SMIA5JECGM</td>\n",
       "      <td>Vincent P. Ross</td>\n",
       "      <td>1</td>\n",
       "      <td>2</td>\n",
       "      <td>5</td>\n",
       "      <td>944438400</td>\n",
       "      <td>A modern day fairy tale</td>\n",
       "      <td>A twist of rumplestiskin captured on film, sta...</td>\n",
       "    </tr>\n",
       "    <tr>\n",
       "      <td>374358</td>\n",
       "      <td>374359</td>\n",
       "      <td>B00004CI84</td>\n",
       "      <td>A344SMIA5JECGM</td>\n",
       "      <td>Vincent P. Ross</td>\n",
       "      <td>1</td>\n",
       "      <td>2</td>\n",
       "      <td>5</td>\n",
       "      <td>944438400</td>\n",
       "      <td>A modern day fairy tale</td>\n",
       "      <td>A twist of rumplestiskin captured on film, sta...</td>\n",
       "    </tr>\n",
       "  </tbody>\n",
       "</table>\n",
       "</div>"
      ],
      "text/plain": [
       "            Id   ProductId          UserId         ProfileName  \\\n",
       "150523  150524  0006641040   ACITT7DI6IDDL     shari zychinski   \n",
       "150500  150501  0006641040   AJ46FKXOVC7NR  Nicholas A Mesiano   \n",
       "451855  451856  B00004CXX9   AIUWLEQ1ADEG5    Elizabeth Medina   \n",
       "230284  230285  B00004RYGX  A344SMIA5JECGM     Vincent P. Ross   \n",
       "374358  374359  B00004CI84  A344SMIA5JECGM     Vincent P. Ross   \n",
       "\n",
       "        HelpfulnessNumerator  HelpfulnessDenominator  Score       Time  \\\n",
       "150523                     0                       0      5  939340800   \n",
       "150500                     2                       2      5  940809600   \n",
       "451855                     0                       0      5  944092800   \n",
       "230284                     1                       2      5  944438400   \n",
       "374358                     1                       2      5  944438400   \n",
       "\n",
       "                                                  Summary  \\\n",
       "150523                          EVERY book is educational   \n",
       "150500  This whole series is great way to spend time w...   \n",
       "451855                               Entertainingl Funny!   \n",
       "230284                            A modern day fairy tale   \n",
       "374358                            A modern day fairy tale   \n",
       "\n",
       "                                                     Text  \n",
       "150523  this witty little book makes my son laugh at l...  \n",
       "150500  I can remember seeing the show when it aired o...  \n",
       "451855  Beetlejuice is a well written movie ..... ever...  \n",
       "230284  A twist of rumplestiskin captured on film, sta...  \n",
       "374358  A twist of rumplestiskin captured on film, sta...  "
      ]
     },
     "execution_count": 169,
     "metadata": {},
     "output_type": "execute_result"
    }
   ],
   "source": [
    "df = (df\n",
    "       .sort_values(['Time', 'HelpfulnessNumerator', 'HelpfulnessDenominator'])\n",
    "       .groupby(['UserId', 'ProductId'])\n",
    "       .tail(1)\n",
    "      )\n",
    "df[:5]"
   ]
  },
  {
   "cell_type": "markdown",
   "metadata": {},
   "source": [
    "####  2.2. Missing values"
   ]
  },
  {
   "cell_type": "code",
   "execution_count": 170,
   "metadata": {},
   "outputs": [
    {
     "data": {
      "text/plain": [
       "Id                        False\n",
       "ProductId                 False\n",
       "UserId                    False\n",
       "ProfileName                True\n",
       "HelpfulnessNumerator      False\n",
       "HelpfulnessDenominator    False\n",
       "Score                     False\n",
       "Time                      False\n",
       "Summary                    True\n",
       "Text                      False\n",
       "dtype: bool"
      ]
     },
     "execution_count": 170,
     "metadata": {},
     "output_type": "execute_result"
    }
   ],
   "source": [
    "df.isna().any()"
   ]
  },
  {
   "cell_type": "markdown",
   "metadata": {},
   "source": [
    "since we consider UserId, we don't care about null values in ProfileName. Instead we should check for null in summary"
   ]
  },
  {
   "cell_type": "code",
   "execution_count": 171,
   "metadata": {},
   "outputs": [
    {
     "data": {
      "text/plain": [
       "27"
      ]
     },
     "execution_count": 171,
     "metadata": {},
     "output_type": "execute_result"
    }
   ],
   "source": [
    "df.Summary.isna().sum()"
   ]
  },
  {
   "cell_type": "markdown",
   "metadata": {},
   "source": [
    "ok we can drop them since they are quite few"
   ]
  },
  {
   "cell_type": "code",
   "execution_count": 172,
   "metadata": {},
   "outputs": [
    {
     "data": {
      "text/html": [
       "<div>\n",
       "<style scoped>\n",
       "    .dataframe tbody tr th:only-of-type {\n",
       "        vertical-align: middle;\n",
       "    }\n",
       "\n",
       "    .dataframe tbody tr th {\n",
       "        vertical-align: top;\n",
       "    }\n",
       "\n",
       "    .dataframe thead th {\n",
       "        text-align: right;\n",
       "    }\n",
       "</style>\n",
       "<table border=\"1\" class=\"dataframe\">\n",
       "  <thead>\n",
       "    <tr style=\"text-align: right;\">\n",
       "      <th></th>\n",
       "      <th>Id</th>\n",
       "      <th>ProductId</th>\n",
       "      <th>UserId</th>\n",
       "      <th>ProfileName</th>\n",
       "      <th>HelpfulnessNumerator</th>\n",
       "      <th>HelpfulnessDenominator</th>\n",
       "      <th>Score</th>\n",
       "      <th>Time</th>\n",
       "      <th>Summary</th>\n",
       "      <th>Text</th>\n",
       "    </tr>\n",
       "  </thead>\n",
       "  <tbody>\n",
       "    <tr>\n",
       "      <td>150523</td>\n",
       "      <td>150524</td>\n",
       "      <td>0006641040</td>\n",
       "      <td>ACITT7DI6IDDL</td>\n",
       "      <td>shari zychinski</td>\n",
       "      <td>0</td>\n",
       "      <td>0</td>\n",
       "      <td>5</td>\n",
       "      <td>939340800</td>\n",
       "      <td>EVERY book is educational</td>\n",
       "      <td>this witty little book makes my son laugh at l...</td>\n",
       "    </tr>\n",
       "    <tr>\n",
       "      <td>150500</td>\n",
       "      <td>150501</td>\n",
       "      <td>0006641040</td>\n",
       "      <td>AJ46FKXOVC7NR</td>\n",
       "      <td>Nicholas A Mesiano</td>\n",
       "      <td>2</td>\n",
       "      <td>2</td>\n",
       "      <td>5</td>\n",
       "      <td>940809600</td>\n",
       "      <td>This whole series is great way to spend time w...</td>\n",
       "      <td>I can remember seeing the show when it aired o...</td>\n",
       "    </tr>\n",
       "    <tr>\n",
       "      <td>451855</td>\n",
       "      <td>451856</td>\n",
       "      <td>B00004CXX9</td>\n",
       "      <td>AIUWLEQ1ADEG5</td>\n",
       "      <td>Elizabeth Medina</td>\n",
       "      <td>0</td>\n",
       "      <td>0</td>\n",
       "      <td>5</td>\n",
       "      <td>944092800</td>\n",
       "      <td>Entertainingl Funny!</td>\n",
       "      <td>Beetlejuice is a well written movie ..... ever...</td>\n",
       "    </tr>\n",
       "    <tr>\n",
       "      <td>230284</td>\n",
       "      <td>230285</td>\n",
       "      <td>B00004RYGX</td>\n",
       "      <td>A344SMIA5JECGM</td>\n",
       "      <td>Vincent P. Ross</td>\n",
       "      <td>1</td>\n",
       "      <td>2</td>\n",
       "      <td>5</td>\n",
       "      <td>944438400</td>\n",
       "      <td>A modern day fairy tale</td>\n",
       "      <td>A twist of rumplestiskin captured on film, sta...</td>\n",
       "    </tr>\n",
       "    <tr>\n",
       "      <td>374358</td>\n",
       "      <td>374359</td>\n",
       "      <td>B00004CI84</td>\n",
       "      <td>A344SMIA5JECGM</td>\n",
       "      <td>Vincent P. Ross</td>\n",
       "      <td>1</td>\n",
       "      <td>2</td>\n",
       "      <td>5</td>\n",
       "      <td>944438400</td>\n",
       "      <td>A modern day fairy tale</td>\n",
       "      <td>A twist of rumplestiskin captured on film, sta...</td>\n",
       "    </tr>\n",
       "  </tbody>\n",
       "</table>\n",
       "</div>"
      ],
      "text/plain": [
       "            Id   ProductId          UserId         ProfileName  \\\n",
       "150523  150524  0006641040   ACITT7DI6IDDL     shari zychinski   \n",
       "150500  150501  0006641040   AJ46FKXOVC7NR  Nicholas A Mesiano   \n",
       "451855  451856  B00004CXX9   AIUWLEQ1ADEG5    Elizabeth Medina   \n",
       "230284  230285  B00004RYGX  A344SMIA5JECGM     Vincent P. Ross   \n",
       "374358  374359  B00004CI84  A344SMIA5JECGM     Vincent P. Ross   \n",
       "\n",
       "        HelpfulnessNumerator  HelpfulnessDenominator  Score       Time  \\\n",
       "150523                     0                       0      5  939340800   \n",
       "150500                     2                       2      5  940809600   \n",
       "451855                     0                       0      5  944092800   \n",
       "230284                     1                       2      5  944438400   \n",
       "374358                     1                       2      5  944438400   \n",
       "\n",
       "                                                  Summary  \\\n",
       "150523                          EVERY book is educational   \n",
       "150500  This whole series is great way to spend time w...   \n",
       "451855                               Entertainingl Funny!   \n",
       "230284                            A modern day fairy tale   \n",
       "374358                            A modern day fairy tale   \n",
       "\n",
       "                                                     Text  \n",
       "150523  this witty little book makes my son laugh at l...  \n",
       "150500  I can remember seeing the show when it aired o...  \n",
       "451855  Beetlejuice is a well written movie ..... ever...  \n",
       "230284  A twist of rumplestiskin captured on film, sta...  \n",
       "374358  A twist of rumplestiskin captured on film, sta...  "
      ]
     },
     "execution_count": 172,
     "metadata": {},
     "output_type": "execute_result"
    }
   ],
   "source": [
    "df = df[-df.Summary.isna()]\n",
    "df[:5]"
   ]
  },
  {
   "cell_type": "markdown",
   "metadata": {},
   "source": [
    "#### 2.3. Distribution\n"
   ]
  },
  {
   "cell_type": "code",
   "execution_count": 177,
   "metadata": {
    "scrolled": false
   },
   "outputs": [
    {
     "data": {
      "image/png": "[encoded data removed]",
      "text/plain": [
       "<Figure size 576x576 with 2 Axes>"
      ]
     },
     "metadata": {
      "needs_background": "light"
     },
     "output_type": "display_data"
    }
   ],
   "source": [
    "plt.rcParams[\"figure.figsize\"] = (8,8)\n",
    "sns.heatmap(df.corr(), annot=True)\n",
    "plt.xticks(rotation=90)\n",
    "plt.yticks(rotation=0)\n",
    "plt.rcParams[\"figure.figsize\"] = (8,5);"
   ]
  },
  {
   "cell_type": "code",
   "execution_count": 173,
   "metadata": {},
   "outputs": [
    {
     "data": {
      "text/html": [
       "<div>\n",
       "<style scoped>\n",
       "    .dataframe tbody tr th:only-of-type {\n",
       "        vertical-align: middle;\n",
       "    }\n",
       "\n",
       "    .dataframe tbody tr th {\n",
       "        vertical-align: top;\n",
       "    }\n",
       "\n",
       "    .dataframe thead th {\n",
       "        text-align: right;\n",
       "    }\n",
       "</style>\n",
       "<table border=\"1\" class=\"dataframe\">\n",
       "  <thead>\n",
       "    <tr style=\"text-align: right;\">\n",
       "      <th></th>\n",
       "      <th>Id</th>\n",
       "      <th>HelpfulnessNumerator</th>\n",
       "      <th>HelpfulnessDenominator</th>\n",
       "      <th>Score</th>\n",
       "      <th>Time</th>\n",
       "    </tr>\n",
       "  </thead>\n",
       "  <tbody>\n",
       "    <tr>\n",
       "      <td>count</td>\n",
       "      <td>560777.000000</td>\n",
       "      <td>560777.000000</td>\n",
       "      <td>560777.000000</td>\n",
       "      <td>560777.000000</td>\n",
       "      <td>5.607770e+05</td>\n",
       "    </tr>\n",
       "    <tr>\n",
       "      <td>mean</td>\n",
       "      <td>284312.766417</td>\n",
       "      <td>1.738916</td>\n",
       "      <td>2.221566</td>\n",
       "      <td>4.182440</td>\n",
       "      <td>1.296597e+09</td>\n",
       "    </tr>\n",
       "    <tr>\n",
       "      <td>std</td>\n",
       "      <td>164099.339523</td>\n",
       "      <td>7.605249</td>\n",
       "      <td>8.240001</td>\n",
       "      <td>1.311068</td>\n",
       "      <td>4.792513e+07</td>\n",
       "    </tr>\n",
       "    <tr>\n",
       "      <td>min</td>\n",
       "      <td>1.000000</td>\n",
       "      <td>0.000000</td>\n",
       "      <td>0.000000</td>\n",
       "      <td>1.000000</td>\n",
       "      <td>9.393408e+08</td>\n",
       "    </tr>\n",
       "    <tr>\n",
       "      <td>25%</td>\n",
       "      <td>142240.000000</td>\n",
       "      <td>0.000000</td>\n",
       "      <td>0.000000</td>\n",
       "      <td>4.000000</td>\n",
       "      <td>1.271894e+09</td>\n",
       "    </tr>\n",
       "    <tr>\n",
       "      <td>50%</td>\n",
       "      <td>284314.000000</td>\n",
       "      <td>0.000000</td>\n",
       "      <td>1.000000</td>\n",
       "      <td>5.000000</td>\n",
       "      <td>1.311552e+09</td>\n",
       "    </tr>\n",
       "    <tr>\n",
       "      <td>75%</td>\n",
       "      <td>426474.000000</td>\n",
       "      <td>2.000000</td>\n",
       "      <td>2.000000</td>\n",
       "      <td>5.000000</td>\n",
       "      <td>1.332893e+09</td>\n",
       "    </tr>\n",
       "    <tr>\n",
       "      <td>max</td>\n",
       "      <td>568454.000000</td>\n",
       "      <td>866.000000</td>\n",
       "      <td>923.000000</td>\n",
       "      <td>5.000000</td>\n",
       "      <td>1.351210e+09</td>\n",
       "    </tr>\n",
       "  </tbody>\n",
       "</table>\n",
       "</div>"
      ],
      "text/plain": [
       "                  Id  HelpfulnessNumerator  HelpfulnessDenominator  \\\n",
       "count  560777.000000         560777.000000           560777.000000   \n",
       "mean   284312.766417              1.738916                2.221566   \n",
       "std    164099.339523              7.605249                8.240001   \n",
       "min         1.000000              0.000000                0.000000   \n",
       "25%    142240.000000              0.000000                0.000000   \n",
       "50%    284314.000000              0.000000                1.000000   \n",
       "75%    426474.000000              2.000000                2.000000   \n",
       "max    568454.000000            866.000000              923.000000   \n",
       "\n",
       "               Score          Time  \n",
       "count  560777.000000  5.607770e+05  \n",
       "mean        4.182440  1.296597e+09  \n",
       "std         1.311068  4.792513e+07  \n",
       "min         1.000000  9.393408e+08  \n",
       "25%         4.000000  1.271894e+09  \n",
       "50%         5.000000  1.311552e+09  \n",
       "75%         5.000000  1.332893e+09  \n",
       "max         5.000000  1.351210e+09  "
      ]
     },
     "execution_count": 173,
     "metadata": {},
     "output_type": "execute_result"
    }
   ],
   "source": [
    "df.describe()"
   ]
  },
  {
   "cell_type": "markdown",
   "metadata": {},
   "source": [
    "Let's show features distributions"
   ]
  },
  {
   "cell_type": "code",
   "execution_count": 149,
   "metadata": {},
   "outputs": [
    {
     "data": {
      "image/png": "[encoded data removed]",
      "text/plain": [
       "<Figure size 432x288 with 1 Axes>"
      ]
     },
     "metadata": {
      "needs_background": "light"
     },
     "output_type": "display_data"
    }
   ],
   "source": [
    "df['HelpfulnessDenominator'][lambda x: x<30].value_counts().plot.bar();"
   ]
  },
  {
   "cell_type": "code",
   "execution_count": 152,
   "metadata": {},
   "outputs": [
    {
     "data": {
      "image/png": "[encoded data removed]",
      "text/plain": [
       "<Figure size 432x288 with 1 Axes>"
      ]
     },
     "metadata": {
      "needs_background": "light"
     },
     "output_type": "display_data"
    }
   ],
   "source": [
    "df['HelpfulnessNumerator'][lambda x: x<30].value_counts().plot.bar();"
   ]
  },
  {
   "cell_type": "markdown",
   "metadata": {},
   "source": [
    "The distributions of HelpfulnessNumerator and HelpfulnessDenominator are right skewed, almost half of the samples have 0. If we subsample the data we should probably stratify to take less 0s since we will build the target variable partially from these columns"
   ]
  },
  {
   "cell_type": "code",
   "execution_count": 153,
   "metadata": {},
   "outputs": [
    {
     "data": {
      "image/png": "[encoded data removed]",
      "text/plain": [
       "<Figure size 432x288 with 1 Axes>"
      ]
     },
     "metadata": {
      "needs_background": "light"
     },
     "output_type": "display_data"
    }
   ],
   "source": [
    "df['Score'].value_counts().plot.bar();"
   ]
  },
  {
   "cell_type": "markdown",
   "metadata": {},
   "source": [
    "Also the score is umbalanced, with more than half samples given by the 5-starred reviews"
   ]
  },
  {
   "cell_type": "code",
   "execution_count": 180,
   "metadata": {},
   "outputs": [
    {
     "data": {
      "text/plain": [
       "count                  560777\n",
       "unique                   3164\n",
       "top       2012-10-16 00:00:00\n",
       "freq                     1139\n",
       "first     1999-10-08 00:00:00\n",
       "last      2012-10-26 00:00:00\n",
       "Name: Time, dtype: object"
      ]
     },
     "execution_count": 180,
     "metadata": {},
     "output_type": "execute_result"
    }
   ],
   "source": [
    "pd.to_datetime(df['Time'], unit='s').describe()"
   ]
  },
  {
   "cell_type": "markdown",
   "metadata": {},
   "source": [
    "Finally we controlled the Time distribution to find out whether samples out of ranges are given. In this case no "
   ]
  },
  {
   "cell_type": "markdown",
   "metadata": {},
   "source": [
    "##  Milestone 2"
   ]
  },
  {
   "cell_type": "markdown",
   "metadata": {},
   "source": [
    "### 3. Preprocessing and feature engineering"
   ]
  },
  {
   "cell_type": "markdown",
   "metadata": {},
   "source": [
    "#### 3.1. Target variable\n",
    "First we need to create the target feature. I want to predict whether the review is useful or not so we need a binary target. I define a helpfulness score which takes HelpfulnessNumerator and HelpfulnessDenominator between 0 and 1"
   ]
  },
  {
   "cell_type": "code",
   "execution_count": 181,
   "metadata": {},
   "outputs": [
    {
     "data": {
      "text/plain": [
       "150523    0.0\n",
       "150500    1.0\n",
       "451855    0.0\n",
       "230284    0.5\n",
       "374358    0.5\n",
       "Name: helpfulness, dtype: float64"
      ]
     },
     "execution_count": 181,
     "metadata": {},
     "output_type": "execute_result"
    }
   ],
   "source": [
    "df['helpfulness'] = np.minimum(1, df['HelpfulnessNumerator'] / (df['HelpfulnessDenominator'] + 1e-6))\n",
    "df['helpfulness'][:5]"
   ]
  },
  {
   "cell_type": "code",
   "execution_count": 184,
   "metadata": {},
   "outputs": [
    {
     "data": {
      "text/plain": [
       "<matplotlib.axes._subplots.AxesSubplot at 0x23eedd1cd08>"
      ]
     },
     "execution_count": 184,
     "metadata": {},
     "output_type": "execute_result"
    },
    {
     "data": {
      "image/png": "[encoded data removed]",
      "text/plain": [
       "<Figure size 576x360 with 1 Axes>"
      ]
     },
     "metadata": {
      "needs_background": "light"
     },
     "output_type": "display_data"
    }
   ],
   "source": [
    "sns.distplot(df['helpfulness'])"
   ]
  },
  {
   "cell_type": "code",
   "execution_count": 215,
   "metadata": {},
   "outputs": [
    {
     "data": {
      "text/plain": [
       "(315715, 245062)"
      ]
     },
     "execution_count": 215,
     "metadata": {},
     "output_type": "execute_result"
    }
   ],
   "source": [
    "HELPFULNESS_THS = .499\n",
    "(df['helpfulness']<HELPFULNESS_THS).sum(), (df['helpfulness']>HELPFULNESS_THS).sum()"
   ]
  },
  {
   "cell_type": "markdown",
   "metadata": {},
   "source": [
    "Considering 0.5 seems a pretty balanced choice. I'll try with that and I'll build the target variable"
   ]
  },
  {
   "cell_type": "code",
   "execution_count": 216,
   "metadata": {},
   "outputs": [
    {
     "data": {
      "text/plain": [
       "150523    False\n",
       "150500     True\n",
       "451855    False\n",
       "230284     True\n",
       "374358     True\n",
       "Name: target, dtype: bool"
      ]
     },
     "execution_count": 216,
     "metadata": {},
     "output_type": "execute_result"
    }
   ],
   "source": [
    "df['target'] = df['helpfulness'] >= HELPFULNESS_THS\n",
    "df['target'][:5]"
   ]
  },
  {
   "cell_type": "code",
   "execution_count": 217,
   "metadata": {},
   "outputs": [
    {
     "data": {
      "text/plain": [
       "False    315715\n",
       "True     245062\n",
       "Name: target, dtype: int64"
      ]
     },
     "execution_count": 217,
     "metadata": {},
     "output_type": "execute_result"
    }
   ],
   "source": [
    "df['target'].value_counts()"
   ]
  },
  {
   "cell_type": "code",
   "execution_count": 219,
   "metadata": {},
   "outputs": [
    {
     "data": {
      "text/html": [
       "<div>\n",
       "<style scoped>\n",
       "    .dataframe tbody tr th:only-of-type {\n",
       "        vertical-align: middle;\n",
       "    }\n",
       "\n",
       "    .dataframe tbody tr th {\n",
       "        vertical-align: top;\n",
       "    }\n",
       "\n",
       "    .dataframe thead th {\n",
       "        text-align: right;\n",
       "    }\n",
       "</style>\n",
       "<table border=\"1\" class=\"dataframe\">\n",
       "  <thead>\n",
       "    <tr style=\"text-align: right;\">\n",
       "      <th></th>\n",
       "      <th>Id</th>\n",
       "      <th>ProductId</th>\n",
       "      <th>UserId</th>\n",
       "      <th>ProfileName</th>\n",
       "      <th>HelpfulnessNumerator</th>\n",
       "      <th>HelpfulnessDenominator</th>\n",
       "      <th>Score</th>\n",
       "      <th>Time</th>\n",
       "      <th>Summary</th>\n",
       "      <th>Text</th>\n",
       "      <th>helpfulness</th>\n",
       "      <th>target</th>\n",
       "    </tr>\n",
       "  </thead>\n",
       "  <tbody>\n",
       "    <tr>\n",
       "      <td>482953</td>\n",
       "      <td>482954</td>\n",
       "      <td>B00206I9RS</td>\n",
       "      <td>A2FB16TK0NORBP</td>\n",
       "      <td>C.C.</td>\n",
       "      <td>1</td>\n",
       "      <td>2</td>\n",
       "      <td>5</td>\n",
       "      <td>1325203200</td>\n",
       "      <td>So much fun</td>\n",
       "      <td>Our daughter had a lot of fun making these coo...</td>\n",
       "      <td>0.5</td>\n",
       "      <td>True</td>\n",
       "    </tr>\n",
       "    <tr>\n",
       "      <td>201330</td>\n",
       "      <td>201331</td>\n",
       "      <td>B000GW46DE</td>\n",
       "      <td>A2OTO7TH9F433R</td>\n",
       "      <td>Fluffy</td>\n",
       "      <td>1</td>\n",
       "      <td>2</td>\n",
       "      <td>3</td>\n",
       "      <td>1233360000</td>\n",
       "      <td>Could stay a little fresher since vaccummed se...</td>\n",
       "      <td>Even though these are in sealed, individual pa...</td>\n",
       "      <td>0.5</td>\n",
       "      <td>True</td>\n",
       "    </tr>\n",
       "    <tr>\n",
       "      <td>375781</td>\n",
       "      <td>375782</td>\n",
       "      <td>B006VRQLWM</td>\n",
       "      <td>A363CWAFMIG1A3</td>\n",
       "      <td>C. Maylett</td>\n",
       "      <td>1</td>\n",
       "      <td>2</td>\n",
       "      <td>1</td>\n",
       "      <td>1327449600</td>\n",
       "      <td>Yuck!</td>\n",
       "      <td>I've been eating PowerBars for years, and thou...</td>\n",
       "      <td>0.5</td>\n",
       "      <td>True</td>\n",
       "    </tr>\n",
       "    <tr>\n",
       "      <td>359733</td>\n",
       "      <td>359734</td>\n",
       "      <td>B007M832YY</td>\n",
       "      <td>A350HRB16YUX9P</td>\n",
       "      <td>R. Wismer \"Ron W\"</td>\n",
       "      <td>1</td>\n",
       "      <td>2</td>\n",
       "      <td>3</td>\n",
       "      <td>1327449600</td>\n",
       "      <td>A little bland</td>\n",
       "      <td>I thought these were going to be sliced sweet ...</td>\n",
       "      <td>0.5</td>\n",
       "      <td>True</td>\n",
       "    </tr>\n",
       "    <tr>\n",
       "      <td>344650</td>\n",
       "      <td>344651</td>\n",
       "      <td>B0026KNQSA</td>\n",
       "      <td>A350HRB16YUX9P</td>\n",
       "      <td>R. Wismer \"Ron W\"</td>\n",
       "      <td>1</td>\n",
       "      <td>2</td>\n",
       "      <td>3</td>\n",
       "      <td>1327449600</td>\n",
       "      <td>A little bland</td>\n",
       "      <td>I thought these were going to be sliced sweet ...</td>\n",
       "      <td>0.5</td>\n",
       "      <td>True</td>\n",
       "    </tr>\n",
       "  </tbody>\n",
       "</table>\n",
       "</div>"
      ],
      "text/plain": [
       "            Id   ProductId          UserId        ProfileName  \\\n",
       "482953  482954  B00206I9RS  A2FB16TK0NORBP               C.C.   \n",
       "201330  201331  B000GW46DE  A2OTO7TH9F433R             Fluffy   \n",
       "375781  375782  B006VRQLWM  A363CWAFMIG1A3         C. Maylett   \n",
       "359733  359734  B007M832YY  A350HRB16YUX9P  R. Wismer \"Ron W\"   \n",
       "344650  344651  B0026KNQSA  A350HRB16YUX9P  R. Wismer \"Ron W\"   \n",
       "\n",
       "        HelpfulnessNumerator  HelpfulnessDenominator  Score        Time  \\\n",
       "482953                     1                       2      5  1325203200   \n",
       "201330                     1                       2      3  1233360000   \n",
       "375781                     1                       2      1  1327449600   \n",
       "359733                     1                       2      3  1327449600   \n",
       "344650                     1                       2      3  1327449600   \n",
       "\n",
       "                                                  Summary  \\\n",
       "482953                                        So much fun   \n",
       "201330  Could stay a little fresher since vaccummed se...   \n",
       "375781                                              Yuck!   \n",
       "359733                                     A little bland   \n",
       "344650                                     A little bland   \n",
       "\n",
       "                                                     Text  helpfulness  target  \n",
       "482953  Our daughter had a lot of fun making these coo...          0.5    True  \n",
       "201330  Even though these are in sealed, individual pa...          0.5    True  \n",
       "375781  I've been eating PowerBars for years, and thou...          0.5    True  \n",
       "359733  I thought these were going to be sliced sweet ...          0.5    True  \n",
       "344650  I thought these were going to be sliced sweet ...          0.5    True  "
      ]
     },
     "execution_count": 219,
     "metadata": {},
     "output_type": "execute_result"
    }
   ],
   "source": [
    "df[df['target']>.5].sort_values('helpfulness')[:5]"
   ]
  },
  {
   "cell_type": "markdown",
   "metadata": {},
   "source": [
    "At this point we can store the preprocessed data since in the next step we'll probably subsample the dataset"
   ]
  },
  {
   "cell_type": "code",
   "execution_count": 220,
   "metadata": {},
   "outputs": [],
   "source": [
    "df.to_csv('./data/reviews_target.csv', index=False)"
   ]
  },
  {
   "cell_type": "markdown",
   "metadata": {},
   "source": [
    "#### 3.2. NLP Preprocessing\n",
    "In order to use text data, we need to apply some transformations, in this section we define a preprocessing pipeline to let us eventually tune the parameters. "
   ]
  },
  {
   "cell_type": "code",
   "execution_count": 45,
   "metadata": {},
   "outputs": [
    {
     "name": "stdout",
     "output_type": "stream",
     "text": [
      "The tensorboard extension is already loaded. To reload it, use:\n",
      "  %reload_ext tensorboard\n"
     ]
    }
   ],
   "source": [
    "import sys, os, re, csv, codecs, datetime, numpy as np, pandas as pd\n",
    "\n",
    "from tensorflow.keras.preprocessing.text import Tokenizer\n",
    "from tensorflow.keras.preprocessing.sequence import pad_sequences\n",
    "from tensorflow.keras.layers import Dense, Input, LSTM, Embedding, Dropout, Activation, Bidirectional, GlobalMaxPool1D\n",
    "from tensorflow.keras.models import Model\n",
    "from tensorflow.keras import initializers, regularizers, constraints, optimizers, layers\n",
    "from tensorflow.keras.callbacks import EarlyStopping, TensorBoard\n",
    "\n",
    "from sklearn.feature_extraction.text import CountVectorizer\n",
    "from sklearn.model_selection import train_test_split"
   ]
  },
  {
   "cell_type": "code",
   "execution_count": 46,
   "metadata": {},
   "outputs": [
    {
     "data": {
      "text/html": [
       "<div>\n",
       "<style scoped>\n",
       "    .dataframe tbody tr th:only-of-type {\n",
       "        vertical-align: middle;\n",
       "    }\n",
       "\n",
       "    .dataframe tbody tr th {\n",
       "        vertical-align: top;\n",
       "    }\n",
       "\n",
       "    .dataframe thead th {\n",
       "        text-align: right;\n",
       "    }\n",
       "</style>\n",
       "<table border=\"1\" class=\"dataframe\">\n",
       "  <thead>\n",
       "    <tr style=\"text-align: right;\">\n",
       "      <th></th>\n",
       "      <th>Id</th>\n",
       "      <th>ProductId</th>\n",
       "      <th>UserId</th>\n",
       "      <th>ProfileName</th>\n",
       "      <th>HelpfulnessNumerator</th>\n",
       "      <th>HelpfulnessDenominator</th>\n",
       "      <th>Score</th>\n",
       "      <th>Time</th>\n",
       "      <th>Summary</th>\n",
       "      <th>Text</th>\n",
       "      <th>helpfulness</th>\n",
       "      <th>target</th>\n",
       "    </tr>\n",
       "  </thead>\n",
       "  <tbody>\n",
       "    <tr>\n",
       "      <td>0</td>\n",
       "      <td>150524</td>\n",
       "      <td>0006641040</td>\n",
       "      <td>ACITT7DI6IDDL</td>\n",
       "      <td>shari zychinski</td>\n",
       "      <td>0</td>\n",
       "      <td>0</td>\n",
       "      <td>5</td>\n",
       "      <td>939340800</td>\n",
       "      <td>EVERY book is educational</td>\n",
       "      <td>this witty little book makes my son laugh at l...</td>\n",
       "      <td>0.0</td>\n",
       "      <td>False</td>\n",
       "    </tr>\n",
       "    <tr>\n",
       "      <td>1</td>\n",
       "      <td>150501</td>\n",
       "      <td>0006641040</td>\n",
       "      <td>AJ46FKXOVC7NR</td>\n",
       "      <td>Nicholas A Mesiano</td>\n",
       "      <td>2</td>\n",
       "      <td>2</td>\n",
       "      <td>5</td>\n",
       "      <td>940809600</td>\n",
       "      <td>This whole series is great way to spend time w...</td>\n",
       "      <td>I can remember seeing the show when it aired o...</td>\n",
       "      <td>1.0</td>\n",
       "      <td>True</td>\n",
       "    </tr>\n",
       "    <tr>\n",
       "      <td>2</td>\n",
       "      <td>451856</td>\n",
       "      <td>B00004CXX9</td>\n",
       "      <td>AIUWLEQ1ADEG5</td>\n",
       "      <td>Elizabeth Medina</td>\n",
       "      <td>0</td>\n",
       "      <td>0</td>\n",
       "      <td>5</td>\n",
       "      <td>944092800</td>\n",
       "      <td>Entertainingl Funny!</td>\n",
       "      <td>Beetlejuice is a well written movie ..... ever...</td>\n",
       "      <td>0.0</td>\n",
       "      <td>False</td>\n",
       "    </tr>\n",
       "  </tbody>\n",
       "</table>\n",
       "</div>"
      ],
      "text/plain": [
       "       Id   ProductId         UserId         ProfileName  \\\n",
       "0  150524  0006641040  ACITT7DI6IDDL     shari zychinski   \n",
       "1  150501  0006641040  AJ46FKXOVC7NR  Nicholas A Mesiano   \n",
       "2  451856  B00004CXX9  AIUWLEQ1ADEG5    Elizabeth Medina   \n",
       "\n",
       "   HelpfulnessNumerator  HelpfulnessDenominator  Score       Time  \\\n",
       "0                     0                       0      5  939340800   \n",
       "1                     2                       2      5  940809600   \n",
       "2                     0                       0      5  944092800   \n",
       "\n",
       "                                             Summary  \\\n",
       "0                          EVERY book is educational   \n",
       "1  This whole series is great way to spend time w...   \n",
       "2                               Entertainingl Funny!   \n",
       "\n",
       "                                                Text  helpfulness  target  \n",
       "0  this witty little book makes my son laugh at l...          0.0   False  \n",
       "1  I can remember seeing the show when it aired o...          1.0    True  \n",
       "2  Beetlejuice is a well written movie ..... ever...          0.0   False  "
      ]
     },
     "execution_count": 46,
     "metadata": {},
     "output_type": "execute_result"
    }
   ],
   "source": [
    "data = pd.read_csv('data/reviews_target.csv')[:50000]\n",
    "data[:3]"
   ]
  },
  {
   "cell_type": "code",
   "execution_count": 47,
   "metadata": {},
   "outputs": [],
   "source": [
    "y = pd.get_dummies(data['target'])\n",
    "X = data['Text'].apply(str)\n",
    "X_train, X_test, y_train, y_test = train_test_split(X, y, test_size=0.2, random_state=42)"
   ]
  },
  {
   "cell_type": "code",
   "execution_count": 48,
   "metadata": {},
   "outputs": [],
   "source": [
    "list_sentences_train = X_train.fillna(\"_na_\").values\n",
    "y_t = y_train.values\n",
    "list_sentences_test = X_test.fillna(\"_na_\").values\n",
    "y_te = y_test.values"
   ]
  },
  {
   "cell_type": "code",
   "execution_count": 49,
   "metadata": {},
   "outputs": [],
   "source": [
    "embed_size = 50 # how big is each word vector\n",
    "max_features = 20000 # how many unique words to use (i.e num rows in embedding vector)\n",
    "maxlen = 347 # max number of words in a comment to use"
   ]
  },
  {
   "cell_type": "code",
   "execution_count": 50,
   "metadata": {},
   "outputs": [],
   "source": [
    "tokenizer = Tokenizer(num_words=max_features)\n",
    "tokenizer.fit_on_texts(list(list_sentences_train))\n",
    "list_tokenized_train = tokenizer.texts_to_sequences(list_sentences_train)\n",
    "list_tokenized_test = tokenizer.texts_to_sequences(list_sentences_test)\n",
    "X_t = pad_sequences(list_tokenized_train, maxlen=maxlen)\n",
    "X_te = pad_sequences(list_tokenized_test, maxlen=maxlen)"
   ]
  },
  {
   "cell_type": "markdown",
   "metadata": {},
   "source": [
    "### 4. Model definition and training"
   ]
  },
  {
   "cell_type": "markdown",
   "metadata": {},
   "source": [
    "#### 4.1. Load Glove Embeddings"
   ]
  },
  {
   "cell_type": "code",
   "execution_count": 51,
   "metadata": {},
   "outputs": [],
   "source": [
    "path = './models/'\n",
    "EMBEDDING_FILE = f'{path}glove.6B.50d.txt'"
   ]
  },
  {
   "cell_type": "code",
   "execution_count": 52,
   "metadata": {},
   "outputs": [],
   "source": [
    "def get_coefs(word,*arr): return word, np.asarray(arr, dtype='float32')\n",
    "embeddings_index = dict(get_coefs(*o.strip().split()) for o in open(EMBEDDING_FILE, encoding='utf8'))"
   ]
  },
  {
   "cell_type": "code",
   "execution_count": 53,
   "metadata": {},
   "outputs": [
    {
     "name": "stderr",
     "output_type": "stream",
     "text": [
      "C:\\Users\\g.gagliano\\AppData\\Local\\Continuum\\anaconda3\\envs\\tf2\\lib\\site-packages\\ipykernel_launcher.py:1: FutureWarning: arrays to stack must be passed as a \"sequence\" type such as list or tuple. Support for non-sequence iterables such as generators is deprecated as of NumPy 1.16 and will raise an error in the future.\n",
      "  \"\"\"Entry point for launching an IPython kernel.\n"
     ]
    },
    {
     "data": {
      "text/plain": [
       "(0.020940498, 0.6441043)"
      ]
     },
     "execution_count": 53,
     "metadata": {},
     "output_type": "execute_result"
    }
   ],
   "source": [
    "all_embs = np.stack(embeddings_index.values())\n",
    "emb_mean, emb_std = all_embs.mean(), all_embs.std()\n",
    "emb_mean, emb_std"
   ]
  },
  {
   "cell_type": "code",
   "execution_count": 54,
   "metadata": {},
   "outputs": [],
   "source": [
    "word_index = tokenizer.word_index\n",
    "nb_words = min(max_features, len(word_index))\n",
    "embedding_matrix = np.random.normal(emb_mean, emb_std, (nb_words, embed_size))\n",
    "for word, i in word_index.items():\n",
    "    if i >= max_features: continue\n",
    "    embedding_vector = embeddings_index.get(word)\n",
    "    if embedding_vector is not None: embedding_matrix[i] = embedding_vector"
   ]
  },
  {
   "cell_type": "markdown",
   "metadata": {},
   "source": [
    "#### 4.2. Build Model"
   ]
  },
  {
   "cell_type": "code",
   "execution_count": 55,
   "metadata": {},
   "outputs": [],
   "source": [
    "inp = Input(shape=(maxlen,))\n",
    "x = Embedding(max_features, embed_size, weights=[embedding_matrix])(inp)\n",
    "x = Bidirectional(LSTM(50, return_sequences=True, dropout=0.1, recurrent_dropout=0.1))(x)\n",
    "x = GlobalMaxPool1D()(x)\n",
    "x = Dense(50, activation=\"relu\")(x)\n",
    "x = Dropout(0.1)(x)\n",
    "x = Dense(2, activation=\"sigmoid\")(x)\n",
    "model = Model(inputs=inp, outputs=x)\n",
    "model.compile(loss='categorical_crossentropy', optimizer='adam', metrics=['accuracy'])"
   ]
  },
  {
   "cell_type": "code",
   "execution_count": 60,
   "metadata": {},
   "outputs": [
    {
     "name": "stdout",
     "output_type": "stream",
     "text": [
      "Train on 36000 samples, validate on 4000 samples\n",
      "Epoch 1/10\n",
      "36000/36000 [==============================] - 544s 15ms/sample - loss: 0.6079 - accuracy: 0.6816 - val_loss: 0.5772 - val_accuracy: 0.7080\n",
      "Epoch 2/10\n",
      "36000/36000 [==============================] - 488s 14ms/sample - loss: 0.5576 - accuracy: 0.7134 - val_loss: 0.5425 - val_accuracy: 0.7220\n",
      "Epoch 3/10\n",
      "36000/36000 [==============================] - 470s 13ms/sample - loss: 0.4798 - accuracy: 0.7687 - val_loss: 0.5166 - val_accuracy: 0.7542\n",
      "Epoch 4/10\n",
      "36000/36000 [==============================] - 497s 14ms/sample - loss: 0.4026 - accuracy: 0.8142 - val_loss: 0.5270 - val_accuracy: 0.7513\n",
      "Epoch 5/10\n",
      "36000/36000 [==============================] - 501s 14ms/sample - loss: 0.3422 - accuracy: 0.8470 - val_loss: 0.5504 - val_accuracy: 0.7570\n"
     ]
    }
   ],
   "source": [
    "log_dir = \".\\\\logs\\\\fit\\\\\" + datetime.datetime.now().strftime(\"%Y%m%d-%H%M%S\")\n",
    "all_callbacks = [EarlyStopping(patience=2),\n",
    "                 TensorBoard(log_dir=log_dir, histogram_freq=1)]\n",
    "model.fit(X_t, y_t, batch_size=32, epochs=10, validation_split=0.1, callbacks=all_callbacks);"
   ]
  },
  {
   "cell_type": "markdown",
   "metadata": {},
   "source": [
    "### 5. Model evaluation"
   ]
  },
  {
   "cell_type": "code",
   "execution_count": 65,
   "metadata": {},
   "outputs": [
    {
     "name": "stdout",
     "output_type": "stream",
     "text": [
      "10000/10000 - 23s - loss: 0.5497 - accuracy: 0.7548\n",
      "score: 0.55\n",
      "acc: 0.75\n"
     ]
    }
   ],
   "source": [
    "score, acc = model.evaluate(X_te, y_te, verbose = 2, batch_size = 32)\n",
    "print(\"score: %.2f\" % (score))\n",
    "print(\"acc: %.2f\" % (acc))"
   ]
  },
  {
   "cell_type": "code",
   "execution_count": 64,
   "metadata": {},
   "outputs": [
    {
     "name": "stdout",
     "output_type": "stream",
     "text": [
      "1/1 - 0s\n",
      "1/1 - 0s\n",
      "1/1 - 0s\n",
      "1/1 - 0s\n",
      "1/1 - 0s\n",
      "1/1 - 0s\n",
      "1/1 - 0s\n",
      "1/1 - 0s\n",
      "1/1 - 0s\n",
      "1/1 - 0s\n",
      "1/1 - 0s\n",
      "1/1 - 0s\n",
      "1/1 - 0s\n",
      "1/1 - 0s\n",
      "1/1 - 0s\n",
      "1/1 - 0s\n",
      "1/1 - 0s\n",
      "1/1 - 0s\n",
      "1/1 - 0s\n",
      "1/1 - 0s\n",
      "1/1 - 0s\n",
      "1/1 - 0s\n",
      "1/1 - 0s\n",
      "1/1 - 0s\n",
      "1/1 - 0s\n",
      "1/1 - 0s\n",
      "1/1 - 0s\n",
      "1/1 - 0s\n",
      "1/1 - 0s\n",
      "1/1 - 0s\n",
      "1/1 - 0s\n",
      "1/1 - 0s\n",
      "1/1 - 0s\n",
      "1/1 - 0s\n",
      "1/1 - 0s\n",
      "1/1 - 0s\n",
      "1/1 - 0s\n",
      "1/1 - 0s\n",
      "1/1 - 0s\n",
      "1/1 - 0s\n",
      "1/1 - 0s\n",
      "1/1 - 0s\n",
      "1/1 - 0s\n",
      "1/1 - 0s\n",
      "1/1 - 0s\n",
      "1/1 - 0s\n",
      "1/1 - 0s\n",
      "1/1 - 0s\n",
      "1/1 - 0s\n",
      "1/1 - 0s\n",
      "1/1 - 0s\n",
      "1/1 - 0s\n",
      "1/1 - 0s\n",
      "1/1 - 0s\n",
      "1/1 - 0s\n",
      "1/1 - 0s\n",
      "1/1 - 0s\n",
      "1/1 - 0s\n",
      "1/1 - 0s\n",
      "1/1 - 0s\n",
      "1/1 - 0s\n",
      "1/1 - 0s\n",
      "1/1 - 0s\n",
      "1/1 - 0s\n",
      "1/1 - 0s\n",
      "1/1 - 0s\n",
      "1/1 - 0s\n",
      "1/1 - 0s\n",
      "1/1 - 0s\n",
      "1/1 - 0s\n",
      "1/1 - 0s\n",
      "1/1 - 0s\n",
      "1/1 - 0s\n",
      "1/1 - 0s\n",
      "1/1 - 0s\n",
      "1/1 - 0s\n",
      "1/1 - 0s\n",
      "1/1 - 0s\n",
      "1/1 - 0s\n",
      "1/1 - 0s\n",
      "1/1 - 0s\n",
      "1/1 - 0s\n",
      "1/1 - 0s\n",
      "1/1 - 0s\n",
      "1/1 - 0s\n",
      "1/1 - 0s\n",
      "1/1 - 0s\n",
      "1/1 - 0s\n",
      "1/1 - 0s\n",
      "1/1 - 0s\n",
      "1/1 - 0s\n",
      "1/1 - 0s\n",
      "1/1 - 0s\n",
      "1/1 - 0s\n",
      "1/1 - 0s\n",
      "1/1 - 0s\n",
      "1/1 - 0s\n",
      "1/1 - 0s\n",
      "1/1 - 0s\n",
      "1/1 - 0s\n",
      "1/1 - 0s\n",
      "1/1 - 0s\n",
      "1/1 - 0s\n",
      "1/1 - 0s\n",
      "1/1 - 0s\n",
      "1/1 - 0s\n",
      "1/1 - 0s\n",
      "1/1 - 0s\n",
      "1/1 - 0s\n",
      "1/1 - 0s\n",
      "1/1 - 0s\n",
      "1/1 - 0s\n",
      "1/1 - 0s\n",
      "1/1 - 0s\n",
      "1/1 - 0s\n",
      "1/1 - 0s\n",
      "1/1 - 0s\n",
      "1/1 - 0s\n",
      "1/1 - 0s\n",
      "1/1 - 0s\n",
      "1/1 - 0s\n",
      "1/1 - 0s\n",
      "1/1 - 0s\n",
      "1/1 - 0s\n",
      "1/1 - 0s\n",
      "1/1 - 0s\n",
      "1/1 - 0s\n",
      "1/1 - 0s\n",
      "1/1 - 0s\n",
      "1/1 - 0s\n",
      "1/1 - 0s\n",
      "1/1 - 0s\n",
      "1/1 - 0s\n",
      "1/1 - 0s\n",
      "1/1 - 0s\n",
      "1/1 - 0s\n",
      "1/1 - 0s\n",
      "1/1 - 0s\n",
      "1/1 - 0s\n",
      "1/1 - 0s\n",
      "1/1 - 0s\n",
      "1/1 - 0s\n",
      "1/1 - 0s\n",
      "1/1 - 0s\n",
      "1/1 - 0s\n",
      "1/1 - 0s\n",
      "1/1 - 0s\n",
      "1/1 - 0s\n",
      "1/1 - 0s\n",
      "1/1 - 0s\n",
      "1/1 - 0s\n",
      "1/1 - 0s\n",
      "1/1 - 0s\n",
      "1/1 - 0s\n",
      "1/1 - 0s\n",
      "1/1 - 0s\n",
      "1/1 - 0s\n",
      "1/1 - 0s\n",
      "1/1 - 0s\n",
      "1/1 - 0s\n",
      "1/1 - 0s\n",
      "1/1 - 0s\n",
      "1/1 - 0s\n",
      "1/1 - 0s\n",
      "1/1 - 0s\n",
      "1/1 - 0s\n",
      "1/1 - 0s\n",
      "1/1 - 0s\n",
      "1/1 - 0s\n",
      "1/1 - 0s\n",
      "1/1 - 0s\n",
      "1/1 - 0s\n",
      "1/1 - 0s\n",
      "1/1 - 0s\n",
      "1/1 - 0s\n",
      "1/1 - 0s\n",
      "1/1 - 0s\n",
      "1/1 - 0s\n",
      "1/1 - 0s\n",
      "1/1 - 0s\n",
      "1/1 - 0s\n",
      "1/1 - 0s\n",
      "1/1 - 0s\n",
      "1/1 - 0s\n",
      "1/1 - 0s\n",
      "1/1 - 0s\n",
      "1/1 - 0s\n",
      "1/1 - 0s\n",
      "1/1 - 0s\n",
      "1/1 - 0s\n",
      "1/1 - 0s\n",
      "1/1 - 0s\n",
      "1/1 - 0s\n",
      "1/1 - 0s\n",
      "1/1 - 0s\n",
      "1/1 - 0s\n",
      "1/1 - 0s\n",
      "1/1 - 0s\n",
      "1/1 - 0s\n",
      "1/1 - 0s\n",
      "1/1 - 0s\n",
      "1/1 - 0s\n",
      "1/1 - 0s\n",
      "1/1 - 0s\n",
      "1/1 - 0s\n",
      "1/1 - 0s\n",
      "1/1 - 0s\n",
      "1/1 - 0s\n",
      "1/1 - 0s\n",
      "1/1 - 0s\n",
      "1/1 - 0s\n",
      "1/1 - 0s\n",
      "1/1 - 0s\n",
      "1/1 - 0s\n",
      "1/1 - 0s\n",
      "1/1 - 0s\n",
      "1/1 - 0s\n",
      "1/1 - 0s\n",
      "1/1 - 0s\n",
      "1/1 - 0s\n",
      "1/1 - 0s\n",
      "1/1 - 0s\n",
      "1/1 - 0s\n",
      "1/1 - 0s\n",
      "1/1 - 0s\n",
      "1/1 - 0s\n",
      "1/1 - 0s\n",
      "1/1 - 0s\n",
      "1/1 - 0s\n",
      "1/1 - 0s\n",
      "1/1 - 0s\n",
      "1/1 - 0s\n",
      "1/1 - 0s\n",
      "1/1 - 0s\n",
      "1/1 - 0s\n",
      "1/1 - 0s\n",
      "1/1 - 0s\n",
      "1/1 - 0s\n",
      "1/1 - 0s\n",
      "1/1 - 0s\n",
      "1/1 - 0s\n",
      "1/1 - 0s\n",
      "1/1 - 0s\n",
      "1/1 - 0s\n",
      "1/1 - 0s\n",
      "1/1 - 0s\n",
      "1/1 - 0s\n",
      "1/1 - 0s\n",
      "1/1 - 0s\n",
      "1/1 - 0s\n",
      "1/1 - 0s\n",
      "1/1 - 0s\n",
      "1/1 - 0s\n",
      "1/1 - 0s\n",
      "1/1 - 0s\n",
      "1/1 - 0s\n",
      "1/1 - 0s\n",
      "1/1 - 0s\n",
      "1/1 - 0s\n",
      "1/1 - 0s\n",
      "1/1 - 0s\n",
      "1/1 - 0s\n",
      "1/1 - 0s\n",
      "1/1 - 0s\n",
      "1/1 - 0s\n",
      "1/1 - 0s\n",
      "1/1 - 0s\n",
      "1/1 - 0s\n",
      "1/1 - 0s\n",
      "1/1 - 0s\n",
      "1/1 - 0s\n",
      "1/1 - 0s\n",
      "1/1 - 0s\n",
      "1/1 - 0s\n",
      "1/1 - 0s\n",
      "1/1 - 0s\n",
      "1/1 - 0s\n",
      "1/1 - 0s\n"
     ]
    },
    {
     "name": "stderr",
     "output_type": "stream",
     "text": [
      "Exception ignored in: <function IteratorResourceDeleter.__del__ at 0x000001C569D629D8>\n",
      "Traceback (most recent call last):\n",
      "  File \"C:\\Users\\g.gagliano\\AppData\\Local\\Continuum\\anaconda3\\envs\\tf2\\lib\\site-packages\\tensorflow_core\\python\\data\\ops\\iterator_ops.py\", line 537, in __del__\n",
      "    handle=self._handle, deleter=self._deleter)\n",
      "  File \"C:\\Users\\g.gagliano\\AppData\\Local\\Continuum\\anaconda3\\envs\\tf2\\lib\\site-packages\\tensorflow_core\\python\\ops\\gen_dataset_ops.py\", line 1139, in delete_iterator\n",
      "    tld.op_callbacks, handle, deleter)\n",
      "KeyboardInterrupt: \n"
     ]
    },
    {
     "name": "stdout",
     "output_type": "stream",
     "text": [
      "1/1 - 0s\n",
      "1/1 - 0s\n",
      "1/1 - 0s\n",
      "1/1 - 0s\n",
      "1/1 - 0s\n",
      "1/1 - 0s\n",
      "1/1 - 0s\n",
      "1/1 - 0s\n",
      "1/1 - 0s\n",
      "1/1 - 0s\n",
      "1/1 - 0s\n",
      "1/1 - 0s\n",
      "1/1 - 0s\n",
      "1/1 - 0s\n",
      "1/1 - 0s\n",
      "1/1 - 0s\n",
      "1/1 - 0s\n",
      "1/1 - 0s\n",
      "1/1 - 0s\n",
      "1/1 - 0s\n",
      "1/1 - 0s\n",
      "1/1 - 0s\n",
      "1/1 - 0s\n",
      "1/1 - 0s\n",
      "1/1 - 0s\n",
      "1/1 - 0s\n",
      "1/1 - 0s\n",
      "1/1 - 0s\n"
     ]
    },
    {
     "ename": "KeyboardInterrupt",
     "evalue": "",
     "output_type": "error",
     "traceback": [
      "\u001b[1;31m---------------------------------------------------------------------------\u001b[0m",
      "\u001b[1;31mKeyboardInterrupt\u001b[0m                         Traceback (most recent call last)",
      "\u001b[1;32m<ipython-input-64-7edc68acf14d>\u001b[0m in \u001b[0;36m<module>\u001b[1;34m\u001b[0m\n\u001b[0;32m      2\u001b[0m \u001b[1;32mfor\u001b[0m \u001b[0mx\u001b[0m \u001b[1;32min\u001b[0m \u001b[0mrange\u001b[0m\u001b[1;33m(\u001b[0m\u001b[0mlen\u001b[0m\u001b[1;33m(\u001b[0m\u001b[0mX_te\u001b[0m\u001b[1;33m)\u001b[0m\u001b[1;33m)\u001b[0m\u001b[1;33m:\u001b[0m\u001b[1;33m\u001b[0m\u001b[1;33m\u001b[0m\u001b[0m\n\u001b[0;32m      3\u001b[0m \u001b[1;33m\u001b[0m\u001b[0m\n\u001b[1;32m----> 4\u001b[1;33m     \u001b[0mresult\u001b[0m \u001b[1;33m=\u001b[0m \u001b[0mmodel\u001b[0m\u001b[1;33m.\u001b[0m\u001b[0mpredict\u001b[0m\u001b[1;33m(\u001b[0m\u001b[0mX_te\u001b[0m\u001b[1;33m[\u001b[0m\u001b[0mx\u001b[0m\u001b[1;33m]\u001b[0m\u001b[1;33m.\u001b[0m\u001b[0mreshape\u001b[0m\u001b[1;33m(\u001b[0m\u001b[1;36m1\u001b[0m\u001b[1;33m,\u001b[0m \u001b[0mX_te\u001b[0m\u001b[1;33m.\u001b[0m\u001b[0mshape\u001b[0m\u001b[1;33m[\u001b[0m\u001b[1;36m1\u001b[0m\u001b[1;33m]\u001b[0m\u001b[1;33m)\u001b[0m\u001b[1;33m,\u001b[0m \u001b[0mbatch_size\u001b[0m\u001b[1;33m=\u001b[0m\u001b[1;36m1\u001b[0m\u001b[1;33m,\u001b[0m \u001b[0mverbose\u001b[0m \u001b[1;33m=\u001b[0m \u001b[1;36m2\u001b[0m\u001b[1;33m)\u001b[0m\u001b[1;33m[\u001b[0m\u001b[1;36m0\u001b[0m\u001b[1;33m]\u001b[0m\u001b[1;33m\u001b[0m\u001b[1;33m\u001b[0m\u001b[0m\n\u001b[0m\u001b[0;32m      5\u001b[0m \u001b[1;33m\u001b[0m\u001b[0m\n\u001b[0;32m      6\u001b[0m     \u001b[1;32mif\u001b[0m \u001b[0mnp\u001b[0m\u001b[1;33m.\u001b[0m\u001b[0margmax\u001b[0m\u001b[1;33m(\u001b[0m\u001b[0mresult\u001b[0m\u001b[1;33m)\u001b[0m \u001b[1;33m==\u001b[0m \u001b[0mnp\u001b[0m\u001b[1;33m.\u001b[0m\u001b[0margmax\u001b[0m\u001b[1;33m(\u001b[0m\u001b[0my_te\u001b[0m\u001b[1;33m[\u001b[0m\u001b[0mx\u001b[0m\u001b[1;33m]\u001b[0m\u001b[1;33m)\u001b[0m\u001b[1;33m:\u001b[0m\u001b[1;33m\u001b[0m\u001b[1;33m\u001b[0m\u001b[0m\n",
      "\u001b[1;32m~\\AppData\\Local\\Continuum\\anaconda3\\envs\\tf2\\lib\\site-packages\\tensorflow_core\\python\\keras\\engine\\training.py\u001b[0m in \u001b[0;36mpredict\u001b[1;34m(self, x, batch_size, verbose, steps, callbacks, max_queue_size, workers, use_multiprocessing)\u001b[0m\n\u001b[0;32m   1011\u001b[0m         \u001b[0mmax_queue_size\u001b[0m\u001b[1;33m=\u001b[0m\u001b[0mmax_queue_size\u001b[0m\u001b[1;33m,\u001b[0m\u001b[1;33m\u001b[0m\u001b[1;33m\u001b[0m\u001b[0m\n\u001b[0;32m   1012\u001b[0m         \u001b[0mworkers\u001b[0m\u001b[1;33m=\u001b[0m\u001b[0mworkers\u001b[0m\u001b[1;33m,\u001b[0m\u001b[1;33m\u001b[0m\u001b[1;33m\u001b[0m\u001b[0m\n\u001b[1;32m-> 1013\u001b[1;33m         use_multiprocessing=use_multiprocessing)\n\u001b[0m\u001b[0;32m   1014\u001b[0m \u001b[1;33m\u001b[0m\u001b[0m\n\u001b[0;32m   1015\u001b[0m   \u001b[1;32mdef\u001b[0m \u001b[0mreset_metrics\u001b[0m\u001b[1;33m(\u001b[0m\u001b[0mself\u001b[0m\u001b[1;33m)\u001b[0m\u001b[1;33m:\u001b[0m\u001b[1;33m\u001b[0m\u001b[1;33m\u001b[0m\u001b[0m\n",
      "\u001b[1;32m~\\AppData\\Local\\Continuum\\anaconda3\\envs\\tf2\\lib\\site-packages\\tensorflow_core\\python\\keras\\engine\\training_v2.py\u001b[0m in \u001b[0;36mpredict\u001b[1;34m(self, model, x, batch_size, verbose, steps, callbacks, max_queue_size, workers, use_multiprocessing, **kwargs)\u001b[0m\n\u001b[0;32m    496\u001b[0m         \u001b[0mmodel\u001b[0m\u001b[1;33m,\u001b[0m \u001b[0mModeKeys\u001b[0m\u001b[1;33m.\u001b[0m\u001b[0mPREDICT\u001b[0m\u001b[1;33m,\u001b[0m \u001b[0mx\u001b[0m\u001b[1;33m=\u001b[0m\u001b[0mx\u001b[0m\u001b[1;33m,\u001b[0m \u001b[0mbatch_size\u001b[0m\u001b[1;33m=\u001b[0m\u001b[0mbatch_size\u001b[0m\u001b[1;33m,\u001b[0m \u001b[0mverbose\u001b[0m\u001b[1;33m=\u001b[0m\u001b[0mverbose\u001b[0m\u001b[1;33m,\u001b[0m\u001b[1;33m\u001b[0m\u001b[1;33m\u001b[0m\u001b[0m\n\u001b[0;32m    497\u001b[0m         \u001b[0msteps\u001b[0m\u001b[1;33m=\u001b[0m\u001b[0msteps\u001b[0m\u001b[1;33m,\u001b[0m \u001b[0mcallbacks\u001b[0m\u001b[1;33m=\u001b[0m\u001b[0mcallbacks\u001b[0m\u001b[1;33m,\u001b[0m \u001b[0mmax_queue_size\u001b[0m\u001b[1;33m=\u001b[0m\u001b[0mmax_queue_size\u001b[0m\u001b[1;33m,\u001b[0m\u001b[1;33m\u001b[0m\u001b[1;33m\u001b[0m\u001b[0m\n\u001b[1;32m--> 498\u001b[1;33m         workers=workers, use_multiprocessing=use_multiprocessing, **kwargs)\n\u001b[0m\u001b[0;32m    499\u001b[0m \u001b[1;33m\u001b[0m\u001b[0m\n\u001b[0;32m    500\u001b[0m \u001b[1;33m\u001b[0m\u001b[0m\n",
      "\u001b[1;32m~\\AppData\\Local\\Continuum\\anaconda3\\envs\\tf2\\lib\\site-packages\\tensorflow_core\\python\\keras\\engine\\training_v2.py\u001b[0m in \u001b[0;36m_model_iteration\u001b[1;34m(self, model, mode, x, y, batch_size, verbose, sample_weight, steps, callbacks, max_queue_size, workers, use_multiprocessing, **kwargs)\u001b[0m\n\u001b[0;32m    473\u001b[0m               \u001b[0mmode\u001b[0m\u001b[1;33m=\u001b[0m\u001b[0mmode\u001b[0m\u001b[1;33m,\u001b[0m\u001b[1;33m\u001b[0m\u001b[1;33m\u001b[0m\u001b[0m\n\u001b[0;32m    474\u001b[0m               \u001b[0mtraining_context\u001b[0m\u001b[1;33m=\u001b[0m\u001b[0mtraining_context\u001b[0m\u001b[1;33m,\u001b[0m\u001b[1;33m\u001b[0m\u001b[1;33m\u001b[0m\u001b[0m\n\u001b[1;32m--> 475\u001b[1;33m               total_epochs=1)\n\u001b[0m\u001b[0;32m    476\u001b[0m           \u001b[0mcbks\u001b[0m\u001b[1;33m.\u001b[0m\u001b[0mmake_logs\u001b[0m\u001b[1;33m(\u001b[0m\u001b[0mmodel\u001b[0m\u001b[1;33m,\u001b[0m \u001b[0mepoch_logs\u001b[0m\u001b[1;33m,\u001b[0m \u001b[0mresult\u001b[0m\u001b[1;33m,\u001b[0m \u001b[0mmode\u001b[0m\u001b[1;33m)\u001b[0m\u001b[1;33m\u001b[0m\u001b[1;33m\u001b[0m\u001b[0m\n\u001b[0;32m    477\u001b[0m \u001b[1;33m\u001b[0m\u001b[0m\n",
      "\u001b[1;32m~\\AppData\\Local\\Continuum\\anaconda3\\envs\\tf2\\lib\\site-packages\\tensorflow_core\\python\\keras\\engine\\training_v2.py\u001b[0m in \u001b[0;36mrun_one_epoch\u001b[1;34m(model, iterator, execution_function, dataset_size, batch_size, strategy, steps_per_epoch, num_samples, mode, training_context, total_epochs)\u001b[0m\n\u001b[0;32m    126\u001b[0m         step=step, mode=mode, size=current_batch_size) as batch_logs:\n\u001b[0;32m    127\u001b[0m       \u001b[1;32mtry\u001b[0m\u001b[1;33m:\u001b[0m\u001b[1;33m\u001b[0m\u001b[1;33m\u001b[0m\u001b[0m\n\u001b[1;32m--> 128\u001b[1;33m         \u001b[0mbatch_outs\u001b[0m \u001b[1;33m=\u001b[0m \u001b[0mexecution_function\u001b[0m\u001b[1;33m(\u001b[0m\u001b[0miterator\u001b[0m\u001b[1;33m)\u001b[0m\u001b[1;33m\u001b[0m\u001b[1;33m\u001b[0m\u001b[0m\n\u001b[0m\u001b[0;32m    129\u001b[0m       \u001b[1;32mexcept\u001b[0m \u001b[1;33m(\u001b[0m\u001b[0mStopIteration\u001b[0m\u001b[1;33m,\u001b[0m \u001b[0merrors\u001b[0m\u001b[1;33m.\u001b[0m\u001b[0mOutOfRangeError\u001b[0m\u001b[1;33m)\u001b[0m\u001b[1;33m:\u001b[0m\u001b[1;33m\u001b[0m\u001b[1;33m\u001b[0m\u001b[0m\n\u001b[0;32m    130\u001b[0m         \u001b[1;31m# TODO(kaftan): File bug about tf function and errors.OutOfRangeError?\u001b[0m\u001b[1;33m\u001b[0m\u001b[1;33m\u001b[0m\u001b[1;33m\u001b[0m\u001b[0m\n",
      "\u001b[1;32m~\\AppData\\Local\\Continuum\\anaconda3\\envs\\tf2\\lib\\site-packages\\tensorflow_core\\python\\keras\\engine\\training_v2_utils.py\u001b[0m in \u001b[0;36mexecution_function\u001b[1;34m(input_fn)\u001b[0m\n\u001b[0;32m     96\u001b[0m     \u001b[1;31m# `numpy` translates Tensors to values in Eager mode.\u001b[0m\u001b[1;33m\u001b[0m\u001b[1;33m\u001b[0m\u001b[1;33m\u001b[0m\u001b[0m\n\u001b[0;32m     97\u001b[0m     return nest.map_structure(_non_none_constant_value,\n\u001b[1;32m---> 98\u001b[1;33m                               distributed_function(input_fn))\n\u001b[0m\u001b[0;32m     99\u001b[0m \u001b[1;33m\u001b[0m\u001b[0m\n\u001b[0;32m    100\u001b[0m   \u001b[1;32mreturn\u001b[0m \u001b[0mexecution_function\u001b[0m\u001b[1;33m\u001b[0m\u001b[1;33m\u001b[0m\u001b[0m\n",
      "\u001b[1;32m~\\AppData\\Local\\Continuum\\anaconda3\\envs\\tf2\\lib\\site-packages\\tensorflow_core\\python\\eager\\def_function.py\u001b[0m in \u001b[0;36m__call__\u001b[1;34m(self, *args, **kwds)\u001b[0m\n\u001b[0;32m    566\u001b[0m         \u001b[0mxla_context\u001b[0m\u001b[1;33m.\u001b[0m\u001b[0mExit\u001b[0m\u001b[1;33m(\u001b[0m\u001b[1;33m)\u001b[0m\u001b[1;33m\u001b[0m\u001b[1;33m\u001b[0m\u001b[0m\n\u001b[0;32m    567\u001b[0m     \u001b[1;32melse\u001b[0m\u001b[1;33m:\u001b[0m\u001b[1;33m\u001b[0m\u001b[1;33m\u001b[0m\u001b[0m\n\u001b[1;32m--> 568\u001b[1;33m       \u001b[0mresult\u001b[0m \u001b[1;33m=\u001b[0m \u001b[0mself\u001b[0m\u001b[1;33m.\u001b[0m\u001b[0m_call\u001b[0m\u001b[1;33m(\u001b[0m\u001b[1;33m*\u001b[0m\u001b[0margs\u001b[0m\u001b[1;33m,\u001b[0m \u001b[1;33m**\u001b[0m\u001b[0mkwds\u001b[0m\u001b[1;33m)\u001b[0m\u001b[1;33m\u001b[0m\u001b[1;33m\u001b[0m\u001b[0m\n\u001b[0m\u001b[0;32m    569\u001b[0m \u001b[1;33m\u001b[0m\u001b[0m\n\u001b[0;32m    570\u001b[0m     \u001b[1;32mif\u001b[0m \u001b[0mtracing_count\u001b[0m \u001b[1;33m==\u001b[0m \u001b[0mself\u001b[0m\u001b[1;33m.\u001b[0m\u001b[0m_get_tracing_count\u001b[0m\u001b[1;33m(\u001b[0m\u001b[1;33m)\u001b[0m\u001b[1;33m:\u001b[0m\u001b[1;33m\u001b[0m\u001b[1;33m\u001b[0m\u001b[0m\n",
      "\u001b[1;32m~\\AppData\\Local\\Continuum\\anaconda3\\envs\\tf2\\lib\\site-packages\\tensorflow_core\\python\\eager\\def_function.py\u001b[0m in \u001b[0;36m_call\u001b[1;34m(self, *args, **kwds)\u001b[0m\n\u001b[0;32m    604\u001b[0m       \u001b[1;31m# In this case we have not created variables on the first call. So we can\u001b[0m\u001b[1;33m\u001b[0m\u001b[1;33m\u001b[0m\u001b[1;33m\u001b[0m\u001b[0m\n\u001b[0;32m    605\u001b[0m       \u001b[1;31m# run the first trace but we should fail if variables are created.\u001b[0m\u001b[1;33m\u001b[0m\u001b[1;33m\u001b[0m\u001b[1;33m\u001b[0m\u001b[0m\n\u001b[1;32m--> 606\u001b[1;33m       \u001b[0mresults\u001b[0m \u001b[1;33m=\u001b[0m \u001b[0mself\u001b[0m\u001b[1;33m.\u001b[0m\u001b[0m_stateful_fn\u001b[0m\u001b[1;33m(\u001b[0m\u001b[1;33m*\u001b[0m\u001b[0margs\u001b[0m\u001b[1;33m,\u001b[0m \u001b[1;33m**\u001b[0m\u001b[0mkwds\u001b[0m\u001b[1;33m)\u001b[0m\u001b[1;33m\u001b[0m\u001b[1;33m\u001b[0m\u001b[0m\n\u001b[0m\u001b[0;32m    607\u001b[0m       \u001b[1;32mif\u001b[0m \u001b[0mself\u001b[0m\u001b[1;33m.\u001b[0m\u001b[0m_created_variables\u001b[0m\u001b[1;33m:\u001b[0m\u001b[1;33m\u001b[0m\u001b[1;33m\u001b[0m\u001b[0m\n\u001b[0;32m    608\u001b[0m         raise ValueError(\"Creating variables on a non-first call to a function\"\n",
      "\u001b[1;32m~\\AppData\\Local\\Continuum\\anaconda3\\envs\\tf2\\lib\\site-packages\\tensorflow_core\\python\\eager\\function.py\u001b[0m in \u001b[0;36m__call__\u001b[1;34m(self, *args, **kwargs)\u001b[0m\n\u001b[0;32m   2361\u001b[0m     \u001b[1;32mwith\u001b[0m \u001b[0mself\u001b[0m\u001b[1;33m.\u001b[0m\u001b[0m_lock\u001b[0m\u001b[1;33m:\u001b[0m\u001b[1;33m\u001b[0m\u001b[1;33m\u001b[0m\u001b[0m\n\u001b[0;32m   2362\u001b[0m       \u001b[0mgraph_function\u001b[0m\u001b[1;33m,\u001b[0m \u001b[0margs\u001b[0m\u001b[1;33m,\u001b[0m \u001b[0mkwargs\u001b[0m \u001b[1;33m=\u001b[0m \u001b[0mself\u001b[0m\u001b[1;33m.\u001b[0m\u001b[0m_maybe_define_function\u001b[0m\u001b[1;33m(\u001b[0m\u001b[0margs\u001b[0m\u001b[1;33m,\u001b[0m \u001b[0mkwargs\u001b[0m\u001b[1;33m)\u001b[0m\u001b[1;33m\u001b[0m\u001b[1;33m\u001b[0m\u001b[0m\n\u001b[1;32m-> 2363\u001b[1;33m     \u001b[1;32mreturn\u001b[0m \u001b[0mgraph_function\u001b[0m\u001b[1;33m.\u001b[0m\u001b[0m_filtered_call\u001b[0m\u001b[1;33m(\u001b[0m\u001b[0margs\u001b[0m\u001b[1;33m,\u001b[0m \u001b[0mkwargs\u001b[0m\u001b[1;33m)\u001b[0m  \u001b[1;31m# pylint: disable=protected-access\u001b[0m\u001b[1;33m\u001b[0m\u001b[1;33m\u001b[0m\u001b[0m\n\u001b[0m\u001b[0;32m   2364\u001b[0m \u001b[1;33m\u001b[0m\u001b[0m\n\u001b[0;32m   2365\u001b[0m   \u001b[1;33m@\u001b[0m\u001b[0mproperty\u001b[0m\u001b[1;33m\u001b[0m\u001b[1;33m\u001b[0m\u001b[0m\n",
      "\u001b[1;32m~\\AppData\\Local\\Continuum\\anaconda3\\envs\\tf2\\lib\\site-packages\\tensorflow_core\\python\\eager\\function.py\u001b[0m in \u001b[0;36m_filtered_call\u001b[1;34m(self, args, kwargs)\u001b[0m\n\u001b[0;32m   1609\u001b[0m          if isinstance(t, (ops.Tensor,\n\u001b[0;32m   1610\u001b[0m                            resource_variable_ops.BaseResourceVariable))),\n\u001b[1;32m-> 1611\u001b[1;33m         self.captured_inputs)\n\u001b[0m\u001b[0;32m   1612\u001b[0m \u001b[1;33m\u001b[0m\u001b[0m\n\u001b[0;32m   1613\u001b[0m   \u001b[1;32mdef\u001b[0m \u001b[0m_call_flat\u001b[0m\u001b[1;33m(\u001b[0m\u001b[0mself\u001b[0m\u001b[1;33m,\u001b[0m \u001b[0margs\u001b[0m\u001b[1;33m,\u001b[0m \u001b[0mcaptured_inputs\u001b[0m\u001b[1;33m,\u001b[0m \u001b[0mcancellation_manager\u001b[0m\u001b[1;33m=\u001b[0m\u001b[1;32mNone\u001b[0m\u001b[1;33m)\u001b[0m\u001b[1;33m:\u001b[0m\u001b[1;33m\u001b[0m\u001b[1;33m\u001b[0m\u001b[0m\n",
      "\u001b[1;32m~\\AppData\\Local\\Continuum\\anaconda3\\envs\\tf2\\lib\\site-packages\\tensorflow_core\\python\\eager\\function.py\u001b[0m in \u001b[0;36m_call_flat\u001b[1;34m(self, args, captured_inputs, cancellation_manager)\u001b[0m\n\u001b[0;32m   1690\u001b[0m       \u001b[1;31m# No tape is watching; skip to running the function.\u001b[0m\u001b[1;33m\u001b[0m\u001b[1;33m\u001b[0m\u001b[1;33m\u001b[0m\u001b[0m\n\u001b[0;32m   1691\u001b[0m       return self._build_call_outputs(self._inference_function.call(\n\u001b[1;32m-> 1692\u001b[1;33m           ctx, args, cancellation_manager=cancellation_manager))\n\u001b[0m\u001b[0;32m   1693\u001b[0m     forward_backward = self._select_forward_and_backward_functions(\n\u001b[0;32m   1694\u001b[0m         \u001b[0margs\u001b[0m\u001b[1;33m,\u001b[0m\u001b[1;33m\u001b[0m\u001b[1;33m\u001b[0m\u001b[0m\n",
      "\u001b[1;32m~\\AppData\\Local\\Continuum\\anaconda3\\envs\\tf2\\lib\\site-packages\\tensorflow_core\\python\\eager\\function.py\u001b[0m in \u001b[0;36mcall\u001b[1;34m(self, ctx, args, cancellation_manager)\u001b[0m\n\u001b[0;32m    543\u001b[0m               \u001b[0minputs\u001b[0m\u001b[1;33m=\u001b[0m\u001b[0margs\u001b[0m\u001b[1;33m,\u001b[0m\u001b[1;33m\u001b[0m\u001b[1;33m\u001b[0m\u001b[0m\n\u001b[0;32m    544\u001b[0m               \u001b[0mattrs\u001b[0m\u001b[1;33m=\u001b[0m\u001b[1;33m(\u001b[0m\u001b[1;34m\"executor_type\"\u001b[0m\u001b[1;33m,\u001b[0m \u001b[0mexecutor_type\u001b[0m\u001b[1;33m,\u001b[0m \u001b[1;34m\"config_proto\"\u001b[0m\u001b[1;33m,\u001b[0m \u001b[0mconfig\u001b[0m\u001b[1;33m)\u001b[0m\u001b[1;33m,\u001b[0m\u001b[1;33m\u001b[0m\u001b[1;33m\u001b[0m\u001b[0m\n\u001b[1;32m--> 545\u001b[1;33m               ctx=ctx)\n\u001b[0m\u001b[0;32m    546\u001b[0m         \u001b[1;32melse\u001b[0m\u001b[1;33m:\u001b[0m\u001b[1;33m\u001b[0m\u001b[1;33m\u001b[0m\u001b[0m\n\u001b[0;32m    547\u001b[0m           outputs = execute.execute_with_cancellation(\n",
      "\u001b[1;32m~\\AppData\\Local\\Continuum\\anaconda3\\envs\\tf2\\lib\\site-packages\\tensorflow_core\\python\\eager\\execute.py\u001b[0m in \u001b[0;36mquick_execute\u001b[1;34m(op_name, num_outputs, inputs, attrs, ctx, name)\u001b[0m\n\u001b[0;32m     59\u001b[0m     tensors = pywrap_tensorflow.TFE_Py_Execute(ctx._handle, device_name,\n\u001b[0;32m     60\u001b[0m                                                \u001b[0mop_name\u001b[0m\u001b[1;33m,\u001b[0m \u001b[0minputs\u001b[0m\u001b[1;33m,\u001b[0m \u001b[0mattrs\u001b[0m\u001b[1;33m,\u001b[0m\u001b[1;33m\u001b[0m\u001b[1;33m\u001b[0m\u001b[0m\n\u001b[1;32m---> 61\u001b[1;33m                                                num_outputs)\n\u001b[0m\u001b[0;32m     62\u001b[0m   \u001b[1;32mexcept\u001b[0m \u001b[0mcore\u001b[0m\u001b[1;33m.\u001b[0m\u001b[0m_NotOkStatusException\u001b[0m \u001b[1;32mas\u001b[0m \u001b[0me\u001b[0m\u001b[1;33m:\u001b[0m\u001b[1;33m\u001b[0m\u001b[1;33m\u001b[0m\u001b[0m\n\u001b[0;32m     63\u001b[0m     \u001b[1;32mif\u001b[0m \u001b[0mname\u001b[0m \u001b[1;32mis\u001b[0m \u001b[1;32mnot\u001b[0m \u001b[1;32mNone\u001b[0m\u001b[1;33m:\u001b[0m\u001b[1;33m\u001b[0m\u001b[1;33m\u001b[0m\u001b[0m\n",
      "\u001b[1;31mKeyboardInterrupt\u001b[0m: "
     ]
    }
   ],
   "source": [
    "pos_cnt, neg_cnt, pos_correct, neg_correct = 0, 0, 0, 0\n",
    "for x in range(len(X_te)):\n",
    "    \n",
    "    result = model.predict(X_te[x].reshape(1, X_te.shape[1]), batch_size=1, verbose = 2)[0]\n",
    "   \n",
    "    if np.argmax(result) == np.argmax(y_te[x]):\n",
    "        if np.argmax(y_te[x]) == 0:\n",
    "            neg_correct += 1\n",
    "        else:\n",
    "            pos_correct += 1\n",
    "       \n",
    "    if np.argmax(y_te[x]) == 0:\n",
    "        neg_cnt += 1\n",
    "    else:\n",
    "        pos_cnt += 1\n",
    "\n",
    "print(\"pos_acc\", pos_correct/pos_cnt*100, \"%\")\n",
    "print(\"neg_acc\", neg_correct/neg_cnt*100, \"%\")"
   ]
  },
  {
   "cell_type": "code",
   "execution_count": null,
   "metadata": {},
   "outputs": [],
   "source": []
  },
  {
   "cell_type": "code",
   "execution_count": null,
   "metadata": {},
   "outputs": [],
   "source": []
  },
  {
   "cell_type": "code",
   "execution_count": null,
   "metadata": {},
   "outputs": [],
   "source": []
  }
 ],
 "metadata": {
  "kernelspec": {
   "display_name": "Python 3",
   "language": "python",
   "name": "python3"
  },
  "language_info": {
   "codemirror_mode": {
    "name": "ipython",
    "version": 3
   },
   "file_extension": ".py",
   "mimetype": "text/x-python",
   "name": "python",
   "nbconvert_exporter": "python",
   "pygments_lexer": "ipython3",
   "version": "3.7.4"
  }
 },
 "nbformat": 4,
 "nbformat_minor": 2
}
